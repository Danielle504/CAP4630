{
  "nbformat": 4,
  "nbformat_minor": 0,
  "metadata": {
    "colab": {
      "name": "HW_3.ipynb",
      "provenance": [],
      "collapsed_sections": [],
      "authorship_tag": "ABX9TyOh6uqPs/9Ub37VBhuh8bk2",
      "include_colab_link": true
    },
    "kernelspec": {
      "name": "python3",
      "display_name": "Python 3"
    }
  },
  "cells": [
    {
      "cell_type": "markdown",
      "metadata": {
        "id": "view-in-github",
        "colab_type": "text"
      },
      "source": [
        "<a href=\"https://colab.research.google.com/github/Danielle504/CAP4630/blob/master/HW_3.ipynb\" target=\"_parent\"><img src=\"https://colab.research.google.com/assets/colab-badge.svg\" alt=\"Open In Colab\"/></a>"
      ]
    },
    {
      "cell_type": "markdown",
      "metadata": {
        "id": "XL4gg2Ifpv0R",
        "colab_type": "text"
      },
      "source": [
        "Danielle Garsten\n",
        "CAP4630, Spring 2020"
      ]
    },
    {
      "cell_type": "markdown",
      "metadata": {
        "id": "tPrD0gy3h3Ju",
        "colab_type": "text"
      },
      "source": [
        "# **Problem 1**\n",
        "\n",
        "Implement the function get_random_data(w, b, mu, sigma, m) that generates random data for logisitic regression with two features features x_1 and x_2. This function should return the array data of shape (m, 2) and the array labels of shape (m, 1)."
      ]
    },
    {
      "cell_type": "code",
      "metadata": {
        "id": "w2yNoI-2mgYV",
        "colab_type": "code",
        "colab": {}
      },
      "source": [
        "import numpy as np\n",
        "import matplotlib.pyplot as plt\n",
        "import random as random"
      ],
      "execution_count": 0,
      "outputs": []
    },
    {
      "cell_type": "code",
      "metadata": {
        "id": "B4erluKsmhAK",
        "colab_type": "code",
        "colab": {
          "base_uri": "https://localhost:8080/",
          "height": 622
        },
        "outputId": "46cc7b70-e61b-46ae-a699-205cae29b290"
      },
      "source": [
        "def get_random_data(w, b, mu, sigma, m):\n",
        "  data = []\n",
        "  labels = []\n",
        "  for i in range(m):\n",
        "    c = np.random.randint(low = 0, high = 2, size = 1)\n",
        "    labels.append(random.randint(0,1))\n",
        "    x_1 = random.random() \n",
        "    n = np.random.normal(mu, sigma)\n",
        "    x_2 = w * x_1 \n",
        "    x_2 += b\n",
        "    x_2 += ((-1)**labels[i]) * n\n",
        "    data.append([x_1, x_2])\n",
        "  data = np.array(data)\n",
        "  labels = np.array(labels)\n",
        "  print(d.shape)\n",
        "  return data, labels\n",
        "\n",
        "d, l =  get_random_data(25, 15, 25, 8, 1000)\n",
        "print(d)\n",
        "print(l)"
      ],
      "execution_count": 80,
      "outputs": [
        {
          "output_type": "stream",
          "text": [
            "(1000, 2)\n",
            "[[ 3.71424563e-02 -1.39324141e-02]\n",
            " [ 9.25217025e-01  6.54095072e+01]\n",
            " [ 4.01879155e-01  5.69820306e+00]\n",
            " ...\n",
            " [ 2.20442541e-01 -7.80013235e+00]\n",
            " [ 1.51712078e-01 -1.21278182e+00]\n",
            " [ 7.92731375e-01  5.06378163e+01]]\n",
            "[1 0 1 1 1 1 0 0 0 0 1 1 0 0 1 1 0 1 1 0 0 0 1 1 0 0 1 0 0 1 1 0 0 0 1 0 1\n",
            " 0 1 0 1 0 1 0 1 1 1 1 1 0 1 0 0 1 1 0 0 0 0 1 1 1 1 0 0 0 0 1 1 0 0 0 1 0\n",
            " 0 0 1 0 0 0 1 0 0 0 1 1 1 1 1 1 0 0 0 1 1 1 0 1 1 0 0 1 0 0 0 0 0 0 0 1 1\n",
            " 1 1 0 1 1 0 0 0 1 0 1 0 1 0 0 0 0 0 1 1 1 1 1 1 0 1 1 1 1 0 0 1 1 1 0 1 1\n",
            " 1 1 0 1 1 1 1 0 1 1 1 0 0 1 1 1 0 0 0 1 0 0 1 0 0 1 1 1 1 0 1 1 1 1 1 1 0\n",
            " 1 1 1 0 0 0 0 0 1 0 1 0 0 1 0 1 0 1 0 0 1 1 0 0 0 0 1 1 0 1 0 1 0 0 0 0 1\n",
            " 1 0 1 1 1 0 0 1 1 1 1 1 1 0 1 0 0 1 1 0 0 0 0 1 1 1 1 0 0 1 1 1 1 1 0 0 0\n",
            " 0 0 0 0 1 1 1 0 1 0 0 1 0 1 0 0 1 1 1 1 1 0 1 0 0 1 1 0 1 0 0 0 1 1 1 1 0\n",
            " 0 0 1 1 0 0 0 1 1 0 1 0 0 0 1 0 0 1 0 1 1 1 1 1 0 1 1 1 1 0 1 1 1 1 0 1 0\n",
            " 0 1 1 1 0 1 0 0 0 0 1 1 1 1 0 1 0 1 0 1 1 1 0 1 0 1 1 0 1 1 1 1 1 1 0 0 0\n",
            " 1 0 1 0 0 1 0 0 0 1 0 1 1 1 0 1 0 0 1 1 1 1 0 0 1 1 1 1 1 1 1 1 0 1 0 0 0\n",
            " 1 0 1 0 0 1 0 0 0 1 0 0 1 0 0 0 1 0 0 0 0 1 1 0 0 1 0 0 1 0 1 1 1 0 0 0 0\n",
            " 1 1 1 1 0 1 1 0 1 0 0 0 1 0 1 1 1 1 0 0 1 0 0 0 1 1 1 0 0 1 0 0 0 0 0 1 0\n",
            " 0 1 1 1 0 0 1 1 0 1 0 1 1 0 1 0 0 1 1 1 0 1 1 0 1 0 0 0 1 1 0 1 1 1 1 0 1\n",
            " 0 1 0 1 1 0 1 0 1 1 1 0 1 1 0 1 0 1 0 1 0 1 0 0 0 1 1 0 0 0 0 1 1 0 0 1 1\n",
            " 0 1 0 0 0 0 0 0 1 0 0 0 0 1 1 0 0 0 1 1 1 0 0 0 0 0 0 0 0 0 0 0 0 1 0 1 0\n",
            " 0 1 1 1 1 0 0 0 0 1 0 1 1 0 0 0 0 1 0 1 1 1 0 0 1 1 0 0 0 0 0 1 0 0 1 1 1\n",
            " 0 0 1 0 0 1 0 0 1 1 1 0 0 0 0 0 0 0 0 0 0 0 1 1 0 1 1 0 0 0 1 1 1 0 1 1 0\n",
            " 0 1 0 1 0 0 0 1 0 0 0 0 0 1 0 0 0 0 1 0 1 1 1 1 1 1 1 0 0 1 0 0 1 1 0 1 1\n",
            " 0 0 1 0 0 1 0 0 1 1 1 1 1 1 0 0 0 1 1 0 0 0 0 1 1 1 1 0 0 1 0 0 1 0 0 0 0\n",
            " 1 0 0 0 1 0 1 0 1 1 0 1 0 1 1 0 1 0 1 1 0 1 1 1 1 1 1 1 1 1 1 1 0 0 0 0 0\n",
            " 1 0 0 1 1 0 0 1 1 1 1 1 1 1 0 0 1 0 1 1 1 0 0 0 0 1 0 1 1 1 0 1 1 1 1 1 1\n",
            " 1 1 0 0 1 0 1 1 1 0 1 1 0 1 1 1 1 0 0 1 0 1 0 0 1 1 1 0 0 1 1 0 0 0 1 0 1\n",
            " 0 0 0 1 0 1 1 0 0 0 1 1 1 1 0 0 1 1 1 0 1 1 0 1 1 0 0 1 1 1 1 0 0 0 0 0 1\n",
            " 0 1 1 1 0 0 0 0 0 1 1 1 0 0 1 1 0 0 0 0 1 0 0 1 0 1 0 0 1 0 0 0 0 0 0 1 0\n",
            " 1 0 0 1 1 1 1 0 1 1 0 0 1 1 0 0 0 0 1 1 1 0 0 1 0 1 0 1 0 0 0 1 1 1 0 0 1\n",
            " 0 1 1 1 0 0 1 1 0 0 1 1 0 0 0 0 0 1 0 1 1 1 0 0 0 1 1 1 1 1 1 0 1 0 1 1 1\n",
            " 0]\n"
          ],
          "name": "stdout"
        }
      ]
    },
    {
      "cell_type": "code",
      "metadata": {
        "id": "GeDZCwO1NqSe",
        "colab_type": "code",
        "colab": {
          "base_uri": "https://localhost:8080/",
          "height": 265
        },
        "outputId": "04fc716a-92ff-4b05-80b7-670af4c47572"
      },
      "source": [
        "# display_random_data creates scatter plot of the 2D points stored in data\n",
        "def display_random_data(data, labels):\n",
        "    x_1 = []\n",
        "    y_1 = []\n",
        "    x_2 = []\n",
        "    y_2 = []\n",
        "    for i in range(len(labels)):\n",
        "        if labels[i] == 0:\n",
        "            x_2.append(data[i][0])\n",
        "            y_2.append(data[i][1])\n",
        "        else:\n",
        "            x_1.append(data[i][0])\n",
        "            y_1.append(data[i][1])\n",
        "    plt.scatter(x_1, y_1, c='red')\n",
        "    plt.scatter(x_2, y_2, c='blue')\n",
        "\n",
        "display_random_data(d, l)"
      ],
      "execution_count": 81,
      "outputs": [
        {
          "output_type": "display_data",
          "data": {
            "image/png": "[encoded data removed]",
            "text/plain": [
              "<Figure size 432x288 with 1 Axes>"
            ]
          },
          "metadata": {
            "tags": []
          }
        }
      ]
    },
    {
      "cell_type": "code",
      "metadata": {
        "id": "0NvxNpLMk-PK",
        "colab_type": "code",
        "colab": {}
      },
      "source": [
        "train_size = int(l.shape[0] * .8)\n",
        "test_size = int(l.shape[0] * .2)"
      ],
      "execution_count": 0,
      "outputs": []
    },
    {
      "cell_type": "code",
      "metadata": {
        "id": "vaJOJjKTlS4c",
        "colab_type": "code",
        "colab": {}
      },
      "source": [
        "# Creating the training and testing data\n",
        "train_data = d[:train_size]\n",
        "test_data = d[train_size:]\n",
        "train_labels = l[:train_size]\n",
        "test_labels = l[train_size:]"
      ],
      "execution_count": 0,
      "outputs": []
    },
    {
      "cell_type": "markdown",
      "metadata": {
        "id": "-twnqVq1jsSA",
        "colab_type": "text"
      },
      "source": [
        "# **Problem 2**\n",
        "\n",
        "Create a Keras to implement logistic regression with two features and train it with the data generated in Problem 1. The loss should be the binary cross entropy loss."
      ]
    },
    {
      "cell_type": "code",
      "metadata": {
        "id": "SvVb9UKMzsqI",
        "colab_type": "code",
        "colab": {}
      },
      "source": [
        "%tensorflow_version 2.x\n",
        "from tensorflow.python.keras.models import Sequential\n",
        "from tensorflow.python.keras.layers import Dense, Activation"
      ],
      "execution_count": 0,
      "outputs": []
    },
    {
      "cell_type": "code",
      "metadata": {
        "id": "sKTal4fnztdq",
        "colab_type": "code",
        "colab": {
          "base_uri": "https://localhost:8080/",
          "height": 1000
        },
        "outputId": "d9b49fa3-e6c7-481e-f9f3-9d33289d063b"
      },
      "source": [
        "in_dim = 2\n",
        "out_dim = nb_class = 1\n",
        "batch_size = 256\n",
        "epochs = 300\n",
        "\n",
        "model = Sequential()\n",
        "model.add(Dense(out_dim, input_dim=in_dim, activation='sigmoid'))\n",
        "\n",
        "# Model for learning and how to showcase most accurate trained data\n",
        "model.compile(optimizer='rmsprop', loss='binary_crossentropy', metrics=['accuracy'])\n",
        "history = model.fit(train_data, train_labels, batch_size=batch_size, epochs=epochs, verbose=1, validation_data=(test_data, test_labels))\n",
        "score = model.evaluate(test_data, test_labels, verbose=0)\n",
        "print('Test score:', score[0])\n",
        "print('Test accuracy:', score[1])"
      ],
      "execution_count": 115,
      "outputs": [
        {
          "output_type": "stream",
          "text": [
            "Epoch 1/300\n",
            "4/4 [==============================] - 0s 31ms/step - loss: 33.1060 - accuracy: 0.2763 - val_loss: 32.1217 - val_accuracy: 0.3050\n",
            "Epoch 2/300\n",
            "4/4 [==============================] - 0s 14ms/step - loss: 29.3690 - accuracy: 0.2763 - val_loss: 31.9766 - val_accuracy: 0.3050\n",
            "Epoch 3/300\n",
            "4/4 [==============================] - 0s 12ms/step - loss: 32.7978 - accuracy: 0.2763 - val_loss: 31.8332 - val_accuracy: 0.3050\n",
            "Epoch 4/300\n",
            "4/4 [==============================] - 0s 12ms/step - loss: 33.3377 - accuracy: 0.2763 - val_loss: 31.7021 - val_accuracy: 0.3050\n",
            "Epoch 5/300\n",
            "4/4 [==============================] - 0s 12ms/step - loss: 33.5081 - accuracy: 0.2750 - val_loss: 31.5781 - val_accuracy: 0.3050\n",
            "Epoch 6/300\n",
            "4/4 [==============================] - 0s 12ms/step - loss: 30.0076 - accuracy: 0.2750 - val_loss: 31.4699 - val_accuracy: 0.3050\n",
            "Epoch 7/300\n",
            "4/4 [==============================] - 0s 12ms/step - loss: 31.9617 - accuracy: 0.2750 - val_loss: 31.3543 - val_accuracy: 0.3050\n",
            "Epoch 8/300\n",
            "4/4 [==============================] - 0s 12ms/step - loss: 33.1604 - accuracy: 0.2750 - val_loss: 31.2359 - val_accuracy: 0.3050\n",
            "Epoch 9/300\n",
            "4/4 [==============================] - 0s 13ms/step - loss: 30.0019 - accuracy: 0.2750 - val_loss: 31.1304 - val_accuracy: 0.3050\n",
            "Epoch 10/300\n",
            "4/4 [==============================] - 0s 12ms/step - loss: 32.6572 - accuracy: 0.2750 - val_loss: 31.0135 - val_accuracy: 0.3050\n",
            "Epoch 11/300\n",
            "4/4 [==============================] - 0s 14ms/step - loss: 30.4138 - accuracy: 0.2750 - val_loss: 30.9056 - val_accuracy: 0.3050\n",
            "Epoch 12/300\n",
            "4/4 [==============================] - 0s 18ms/step - loss: 30.6766 - accuracy: 0.2750 - val_loss: 30.7954 - val_accuracy: 0.3050\n",
            "Epoch 13/300\n",
            "4/4 [==============================] - 0s 15ms/step - loss: 31.3413 - accuracy: 0.2750 - val_loss: 30.6821 - val_accuracy: 0.3050\n",
            "Epoch 14/300\n",
            "4/4 [==============================] - 0s 12ms/step - loss: 30.0127 - accuracy: 0.2750 - val_loss: 30.5737 - val_accuracy: 0.3050\n",
            "Epoch 15/300\n",
            "4/4 [==============================] - 0s 12ms/step - loss: 30.9273 - accuracy: 0.2750 - val_loss: 30.4610 - val_accuracy: 0.3050\n",
            "Epoch 16/300\n",
            "4/4 [==============================] - 0s 13ms/step - loss: 29.5335 - accuracy: 0.2750 - val_loss: 30.3531 - val_accuracy: 0.3050\n",
            "Epoch 17/300\n",
            "4/4 [==============================] - 0s 11ms/step - loss: 32.4381 - accuracy: 0.2750 - val_loss: 30.2338 - val_accuracy: 0.3050\n",
            "Epoch 18/300\n",
            "4/4 [==============================] - 0s 11ms/step - loss: 29.0922 - accuracy: 0.2750 - val_loss: 30.1286 - val_accuracy: 0.3050\n",
            "Epoch 19/300\n",
            "4/4 [==============================] - 0s 11ms/step - loss: 29.4735 - accuracy: 0.2750 - val_loss: 30.0203 - val_accuracy: 0.3050\n",
            "Epoch 20/300\n",
            "4/4 [==============================] - 0s 13ms/step - loss: 30.4777 - accuracy: 0.2750 - val_loss: 29.9064 - val_accuracy: 0.3050\n",
            "Epoch 21/300\n",
            "4/4 [==============================] - 0s 11ms/step - loss: 26.9983 - accuracy: 0.2750 - val_loss: 29.8062 - val_accuracy: 0.3050\n",
            "Epoch 22/300\n",
            "4/4 [==============================] - 0s 12ms/step - loss: 29.8240 - accuracy: 0.2750 - val_loss: 29.6920 - val_accuracy: 0.3050\n",
            "Epoch 23/300\n",
            "4/4 [==============================] - 0s 12ms/step - loss: 30.5952 - accuracy: 0.2750 - val_loss: 29.5757 - val_accuracy: 0.3050\n",
            "Epoch 24/300\n",
            "4/4 [==============================] - 0s 12ms/step - loss: 30.8625 - accuracy: 0.2750 - val_loss: 29.4600 - val_accuracy: 0.3050\n",
            "Epoch 25/300\n",
            "4/4 [==============================] - 0s 12ms/step - loss: 31.7902 - accuracy: 0.2750 - val_loss: 29.3424 - val_accuracy: 0.3050\n",
            "Epoch 26/300\n",
            "4/4 [==============================] - 0s 13ms/step - loss: 29.8178 - accuracy: 0.2750 - val_loss: 29.2337 - val_accuracy: 0.3050\n",
            "Epoch 27/300\n",
            "4/4 [==============================] - 0s 13ms/step - loss: 30.3264 - accuracy: 0.2750 - val_loss: 29.1218 - val_accuracy: 0.3050\n",
            "Epoch 28/300\n",
            "4/4 [==============================] - 0s 11ms/step - loss: 28.3232 - accuracy: 0.2750 - val_loss: 29.0168 - val_accuracy: 0.3050\n",
            "Epoch 29/300\n",
            "4/4 [==============================] - 0s 13ms/step - loss: 29.5704 - accuracy: 0.2750 - val_loss: 28.9054 - val_accuracy: 0.3000\n",
            "Epoch 30/300\n",
            "4/4 [==============================] - 0s 14ms/step - loss: 30.2514 - accuracy: 0.2750 - val_loss: 28.7907 - val_accuracy: 0.3000\n",
            "Epoch 31/300\n",
            "4/4 [==============================] - 0s 12ms/step - loss: 28.2832 - accuracy: 0.2738 - val_loss: 28.6839 - val_accuracy: 0.3000\n",
            "Epoch 32/300\n",
            "4/4 [==============================] - 0s 13ms/step - loss: 27.4405 - accuracy: 0.2738 - val_loss: 28.5785 - val_accuracy: 0.3000\n",
            "Epoch 33/300\n",
            "4/4 [==============================] - 0s 12ms/step - loss: 28.5873 - accuracy: 0.2738 - val_loss: 28.4668 - val_accuracy: 0.3000\n",
            "Epoch 34/300\n",
            "4/4 [==============================] - 0s 14ms/step - loss: 30.1156 - accuracy: 0.2738 - val_loss: 28.3494 - val_accuracy: 0.3000\n",
            "Epoch 35/300\n",
            "4/4 [==============================] - 0s 13ms/step - loss: 29.2501 - accuracy: 0.2738 - val_loss: 28.2368 - val_accuracy: 0.3000\n",
            "Epoch 36/300\n",
            "4/4 [==============================] - 0s 13ms/step - loss: 27.9663 - accuracy: 0.2738 - val_loss: 28.1290 - val_accuracy: 0.3000\n",
            "Epoch 37/300\n",
            "4/4 [==============================] - 0s 14ms/step - loss: 28.2375 - accuracy: 0.2738 - val_loss: 28.0183 - val_accuracy: 0.3000\n",
            "Epoch 38/300\n",
            "4/4 [==============================] - 0s 12ms/step - loss: 28.1496 - accuracy: 0.2738 - val_loss: 27.9073 - val_accuracy: 0.3000\n",
            "Epoch 39/300\n",
            "4/4 [==============================] - 0s 15ms/step - loss: 28.0469 - accuracy: 0.2738 - val_loss: 27.7963 - val_accuracy: 0.3000\n",
            "Epoch 40/300\n",
            "4/4 [==============================] - 0s 13ms/step - loss: 27.8707 - accuracy: 0.2738 - val_loss: 27.6854 - val_accuracy: 0.3000\n",
            "Epoch 41/300\n",
            "4/4 [==============================] - 0s 12ms/step - loss: 28.0608 - accuracy: 0.2738 - val_loss: 27.5729 - val_accuracy: 0.3000\n",
            "Epoch 42/300\n",
            "4/4 [==============================] - 0s 13ms/step - loss: 28.2981 - accuracy: 0.2738 - val_loss: 27.4594 - val_accuracy: 0.3000\n",
            "Epoch 43/300\n",
            "4/4 [==============================] - 0s 11ms/step - loss: 28.2622 - accuracy: 0.2725 - val_loss: 27.3465 - val_accuracy: 0.3000\n",
            "Epoch 44/300\n",
            "4/4 [==============================] - 0s 13ms/step - loss: 27.1632 - accuracy: 0.2725 - val_loss: 27.2378 - val_accuracy: 0.3000\n",
            "Epoch 45/300\n",
            "4/4 [==============================] - 0s 11ms/step - loss: 27.4127 - accuracy: 0.2725 - val_loss: 27.1269 - val_accuracy: 0.3000\n",
            "Epoch 46/300\n",
            "4/4 [==============================] - 0s 12ms/step - loss: 26.3876 - accuracy: 0.2713 - val_loss: 27.0197 - val_accuracy: 0.3000\n",
            "Epoch 47/300\n",
            "4/4 [==============================] - 0s 12ms/step - loss: 28.0364 - accuracy: 0.2713 - val_loss: 26.9043 - val_accuracy: 0.3000\n",
            "Epoch 48/300\n",
            "4/4 [==============================] - 0s 13ms/step - loss: 27.0873 - accuracy: 0.2713 - val_loss: 26.7933 - val_accuracy: 0.3000\n",
            "Epoch 49/300\n",
            "4/4 [==============================] - 0s 16ms/step - loss: 26.6748 - accuracy: 0.2713 - val_loss: 26.6834 - val_accuracy: 0.3000\n",
            "Epoch 50/300\n",
            "4/4 [==============================] - 0s 11ms/step - loss: 27.4308 - accuracy: 0.2713 - val_loss: 26.5698 - val_accuracy: 0.3000\n",
            "Epoch 51/300\n",
            "4/4 [==============================] - 0s 12ms/step - loss: 26.8811 - accuracy: 0.2713 - val_loss: 26.4584 - val_accuracy: 0.3000\n",
            "Epoch 52/300\n",
            "4/4 [==============================] - 0s 11ms/step - loss: 26.3124 - accuracy: 0.2713 - val_loss: 26.3490 - val_accuracy: 0.3000\n",
            "Epoch 53/300\n",
            "4/4 [==============================] - 0s 12ms/step - loss: 25.2084 - accuracy: 0.2713 - val_loss: 26.2429 - val_accuracy: 0.3000\n",
            "Epoch 54/300\n",
            "4/4 [==============================] - 0s 11ms/step - loss: 27.1258 - accuracy: 0.2713 - val_loss: 26.1270 - val_accuracy: 0.3000\n",
            "Epoch 55/300\n",
            "4/4 [==============================] - 0s 14ms/step - loss: 27.8102 - accuracy: 0.2713 - val_loss: 26.0093 - val_accuracy: 0.3000\n",
            "Epoch 56/300\n",
            "4/4 [==============================] - 0s 11ms/step - loss: 26.0146 - accuracy: 0.2713 - val_loss: 25.9010 - val_accuracy: 0.3000\n",
            "Epoch 57/300\n",
            "4/4 [==============================] - 0s 11ms/step - loss: 24.6330 - accuracy: 0.2713 - val_loss: 25.7970 - val_accuracy: 0.3000\n",
            "Epoch 58/300\n",
            "4/4 [==============================] - 0s 12ms/step - loss: 26.8224 - accuracy: 0.2713 - val_loss: 25.6814 - val_accuracy: 0.3000\n",
            "Epoch 59/300\n",
            "4/4 [==============================] - 0s 15ms/step - loss: 26.2938 - accuracy: 0.2713 - val_loss: 25.5694 - val_accuracy: 0.3000\n",
            "Epoch 60/300\n",
            "4/4 [==============================] - 0s 11ms/step - loss: 24.9377 - accuracy: 0.2713 - val_loss: 25.4626 - val_accuracy: 0.3000\n",
            "Epoch 61/300\n",
            "4/4 [==============================] - 0s 12ms/step - loss: 25.4915 - accuracy: 0.2713 - val_loss: 25.3515 - val_accuracy: 0.3000\n",
            "Epoch 62/300\n",
            "4/4 [==============================] - 0s 11ms/step - loss: 24.5135 - accuracy: 0.2713 - val_loss: 25.2437 - val_accuracy: 0.3000\n",
            "Epoch 63/300\n",
            "4/4 [==============================] - 0s 11ms/step - loss: 26.0859 - accuracy: 0.2713 - val_loss: 25.1280 - val_accuracy: 0.3000\n",
            "Epoch 64/300\n",
            "4/4 [==============================] - 0s 12ms/step - loss: 24.4407 - accuracy: 0.2713 - val_loss: 25.0200 - val_accuracy: 0.3000\n",
            "Epoch 65/300\n",
            "4/4 [==============================] - 0s 11ms/step - loss: 25.6793 - accuracy: 0.2713 - val_loss: 24.9054 - val_accuracy: 0.3000\n",
            "Epoch 66/300\n",
            "4/4 [==============================] - 0s 11ms/step - loss: 24.6676 - accuracy: 0.2713 - val_loss: 24.7960 - val_accuracy: 0.3000\n",
            "Epoch 67/300\n",
            "4/4 [==============================] - 0s 12ms/step - loss: 24.6088 - accuracy: 0.2713 - val_loss: 24.6852 - val_accuracy: 0.3000\n",
            "Epoch 68/300\n",
            "4/4 [==============================] - 0s 14ms/step - loss: 23.7906 - accuracy: 0.2713 - val_loss: 24.5775 - val_accuracy: 0.3000\n",
            "Epoch 69/300\n",
            "4/4 [==============================] - 0s 11ms/step - loss: 23.3459 - accuracy: 0.2713 - val_loss: 24.4703 - val_accuracy: 0.3000\n",
            "Epoch 70/300\n",
            "4/4 [==============================] - 0s 12ms/step - loss: 22.8678 - accuracy: 0.2713 - val_loss: 24.3639 - val_accuracy: 0.3000\n",
            "Epoch 71/300\n",
            "4/4 [==============================] - 0s 11ms/step - loss: 25.0526 - accuracy: 0.2713 - val_loss: 24.2459 - val_accuracy: 0.3000\n",
            "Epoch 72/300\n",
            "4/4 [==============================] - 0s 12ms/step - loss: 26.0384 - accuracy: 0.2713 - val_loss: 24.1259 - val_accuracy: 0.3000\n",
            "Epoch 73/300\n",
            "4/4 [==============================] - 0s 13ms/step - loss: 23.3180 - accuracy: 0.2700 - val_loss: 24.0206 - val_accuracy: 0.3000\n",
            "Epoch 74/300\n",
            "4/4 [==============================] - 0s 14ms/step - loss: 24.9558 - accuracy: 0.2700 - val_loss: 23.9058 - val_accuracy: 0.3000\n",
            "Epoch 75/300\n",
            "4/4 [==============================] - 0s 13ms/step - loss: 24.4792 - accuracy: 0.2688 - val_loss: 23.7936 - val_accuracy: 0.3000\n",
            "Epoch 76/300\n",
            "4/4 [==============================] - 0s 11ms/step - loss: 24.2745 - accuracy: 0.2688 - val_loss: 23.6822 - val_accuracy: 0.3000\n",
            "Epoch 77/300\n",
            "4/4 [==============================] - 0s 10ms/step - loss: 23.3042 - accuracy: 0.2688 - val_loss: 23.5745 - val_accuracy: 0.3000\n",
            "Epoch 78/300\n",
            "4/4 [==============================] - 0s 13ms/step - loss: 23.7699 - accuracy: 0.2688 - val_loss: 23.4630 - val_accuracy: 0.3000\n",
            "Epoch 79/300\n",
            "4/4 [==============================] - 0s 13ms/step - loss: 23.5444 - accuracy: 0.2688 - val_loss: 23.3519 - val_accuracy: 0.3000\n",
            "Epoch 80/300\n",
            "4/4 [==============================] - 0s 15ms/step - loss: 23.7229 - accuracy: 0.2688 - val_loss: 23.2396 - val_accuracy: 0.3000\n",
            "Epoch 81/300\n",
            "4/4 [==============================] - 0s 13ms/step - loss: 23.4260 - accuracy: 0.2688 - val_loss: 23.1281 - val_accuracy: 0.3000\n",
            "Epoch 82/300\n",
            "4/4 [==============================] - 0s 12ms/step - loss: 23.9537 - accuracy: 0.2675 - val_loss: 23.0144 - val_accuracy: 0.3000\n",
            "Epoch 83/300\n",
            "4/4 [==============================] - 0s 15ms/step - loss: 21.6926 - accuracy: 0.2675 - val_loss: 22.9114 - val_accuracy: 0.3000\n",
            "Epoch 84/300\n",
            "4/4 [==============================] - 0s 12ms/step - loss: 22.8411 - accuracy: 0.2675 - val_loss: 22.7996 - val_accuracy: 0.3000\n",
            "Epoch 85/300\n",
            "4/4 [==============================] - 0s 12ms/step - loss: 22.5766 - accuracy: 0.2675 - val_loss: 22.6891 - val_accuracy: 0.3000\n",
            "Epoch 86/300\n",
            "4/4 [==============================] - 0s 12ms/step - loss: 22.4853 - accuracy: 0.2675 - val_loss: 22.5786 - val_accuracy: 0.3000\n",
            "Epoch 87/300\n",
            "4/4 [==============================] - 0s 17ms/step - loss: 22.5147 - accuracy: 0.2663 - val_loss: 22.4671 - val_accuracy: 0.3000\n",
            "Epoch 88/300\n",
            "4/4 [==============================] - 0s 12ms/step - loss: 23.6812 - accuracy: 0.2663 - val_loss: 22.3494 - val_accuracy: 0.3000\n",
            "Epoch 89/300\n",
            "4/4 [==============================] - 0s 12ms/step - loss: 23.1665 - accuracy: 0.2663 - val_loss: 22.2363 - val_accuracy: 0.3000\n",
            "Epoch 90/300\n",
            "4/4 [==============================] - 0s 13ms/step - loss: 21.9255 - accuracy: 0.2650 - val_loss: 22.1290 - val_accuracy: 0.3000\n",
            "Epoch 91/300\n",
            "4/4 [==============================] - 0s 11ms/step - loss: 23.2013 - accuracy: 0.2650 - val_loss: 22.0138 - val_accuracy: 0.3000\n",
            "Epoch 92/300\n",
            "4/4 [==============================] - 0s 13ms/step - loss: 23.0184 - accuracy: 0.2650 - val_loss: 21.9000 - val_accuracy: 0.3000\n",
            "Epoch 93/300\n",
            "4/4 [==============================] - 0s 12ms/step - loss: 23.3939 - accuracy: 0.2650 - val_loss: 21.7857 - val_accuracy: 0.3000\n",
            "Epoch 94/300\n",
            "4/4 [==============================] - 0s 14ms/step - loss: 23.1613 - accuracy: 0.2650 - val_loss: 21.6732 - val_accuracy: 0.3000\n",
            "Epoch 95/300\n",
            "4/4 [==============================] - 0s 13ms/step - loss: 22.2489 - accuracy: 0.2650 - val_loss: 21.5645 - val_accuracy: 0.3000\n",
            "Epoch 96/300\n",
            "4/4 [==============================] - 0s 11ms/step - loss: 23.1198 - accuracy: 0.2650 - val_loss: 21.4507 - val_accuracy: 0.3000\n",
            "Epoch 97/300\n",
            "4/4 [==============================] - 0s 15ms/step - loss: 22.1195 - accuracy: 0.2637 - val_loss: 21.3423 - val_accuracy: 0.3000\n",
            "Epoch 98/300\n",
            "4/4 [==============================] - 0s 11ms/step - loss: 21.3168 - accuracy: 0.2637 - val_loss: 21.2361 - val_accuracy: 0.3000\n",
            "Epoch 99/300\n",
            "4/4 [==============================] - 0s 13ms/step - loss: 22.1680 - accuracy: 0.2637 - val_loss: 21.1238 - val_accuracy: 0.3000\n",
            "Epoch 100/300\n",
            "4/4 [==============================] - 0s 12ms/step - loss: 20.2937 - accuracy: 0.2637 - val_loss: 21.0202 - val_accuracy: 0.3000\n",
            "Epoch 101/300\n",
            "4/4 [==============================] - 0s 13ms/step - loss: 21.8334 - accuracy: 0.2637 - val_loss: 20.9066 - val_accuracy: 0.3000\n",
            "Epoch 102/300\n",
            "4/4 [==============================] - 0s 12ms/step - loss: 21.7027 - accuracy: 0.2637 - val_loss: 20.7935 - val_accuracy: 0.3000\n",
            "Epoch 103/300\n",
            "4/4 [==============================] - 0s 12ms/step - loss: 20.2600 - accuracy: 0.2637 - val_loss: 20.6881 - val_accuracy: 0.3000\n",
            "Epoch 104/300\n",
            "4/4 [==============================] - 0s 13ms/step - loss: 21.3976 - accuracy: 0.2637 - val_loss: 20.5745 - val_accuracy: 0.3000\n",
            "Epoch 105/300\n",
            "4/4 [==============================] - 0s 12ms/step - loss: 21.2763 - accuracy: 0.2625 - val_loss: 20.4615 - val_accuracy: 0.3000\n",
            "Epoch 106/300\n",
            "4/4 [==============================] - 0s 11ms/step - loss: 20.6072 - accuracy: 0.2625 - val_loss: 20.3522 - val_accuracy: 0.3000\n",
            "Epoch 107/300\n",
            "4/4 [==============================] - 0s 16ms/step - loss: 19.9660 - accuracy: 0.2625 - val_loss: 20.2450 - val_accuracy: 0.3000\n",
            "Epoch 108/300\n",
            "4/4 [==============================] - 0s 12ms/step - loss: 20.0622 - accuracy: 0.2625 - val_loss: 20.1358 - val_accuracy: 0.3000\n",
            "Epoch 109/300\n",
            "4/4 [==============================] - 0s 13ms/step - loss: 19.6693 - accuracy: 0.2625 - val_loss: 20.0274 - val_accuracy: 0.3000\n",
            "Epoch 110/300\n",
            "4/4 [==============================] - 0s 12ms/step - loss: 18.7514 - accuracy: 0.2625 - val_loss: 19.9224 - val_accuracy: 0.3000\n",
            "Epoch 111/300\n",
            "4/4 [==============================] - 0s 12ms/step - loss: 18.8648 - accuracy: 0.2625 - val_loss: 19.8146 - val_accuracy: 0.3000\n",
            "Epoch 112/300\n",
            "4/4 [==============================] - 0s 11ms/step - loss: 20.7057 - accuracy: 0.2625 - val_loss: 19.6962 - val_accuracy: 0.3000\n",
            "Epoch 113/300\n",
            "4/4 [==============================] - 0s 12ms/step - loss: 19.8265 - accuracy: 0.2625 - val_loss: 19.5839 - val_accuracy: 0.3000\n",
            "Epoch 114/300\n",
            "4/4 [==============================] - 0s 13ms/step - loss: 19.3837 - accuracy: 0.2625 - val_loss: 19.4733 - val_accuracy: 0.3000\n",
            "Epoch 115/300\n",
            "4/4 [==============================] - 0s 12ms/step - loss: 18.7226 - accuracy: 0.2625 - val_loss: 19.3661 - val_accuracy: 0.3000\n",
            "Epoch 116/300\n",
            "4/4 [==============================] - 0s 15ms/step - loss: 20.7708 - accuracy: 0.2625 - val_loss: 19.2463 - val_accuracy: 0.3000\n",
            "Epoch 117/300\n",
            "4/4 [==============================] - 0s 11ms/step - loss: 19.8532 - accuracy: 0.2625 - val_loss: 19.1337 - val_accuracy: 0.3000\n",
            "Epoch 118/300\n",
            "4/4 [==============================] - 0s 12ms/step - loss: 19.1840 - accuracy: 0.2625 - val_loss: 19.0249 - val_accuracy: 0.3000\n",
            "Epoch 119/300\n",
            "4/4 [==============================] - 0s 11ms/step - loss: 18.2554 - accuracy: 0.2625 - val_loss: 18.9203 - val_accuracy: 0.3000\n",
            "Epoch 120/300\n",
            "4/4 [==============================] - 0s 11ms/step - loss: 18.7234 - accuracy: 0.2625 - val_loss: 18.8104 - val_accuracy: 0.3000\n",
            "Epoch 121/300\n",
            "4/4 [==============================] - 0s 12ms/step - loss: 20.1812 - accuracy: 0.2625 - val_loss: 18.6915 - val_accuracy: 0.2950\n",
            "Epoch 122/300\n",
            "4/4 [==============================] - 0s 11ms/step - loss: 19.0985 - accuracy: 0.2625 - val_loss: 18.5808 - val_accuracy: 0.2950\n",
            "Epoch 123/300\n",
            "4/4 [==============================] - 0s 11ms/step - loss: 19.0077 - accuracy: 0.2625 - val_loss: 18.4695 - val_accuracy: 0.2950\n",
            "Epoch 124/300\n",
            "4/4 [==============================] - 0s 12ms/step - loss: 19.0995 - accuracy: 0.2625 - val_loss: 18.3572 - val_accuracy: 0.2950\n",
            "Epoch 125/300\n",
            "4/4 [==============================] - 0s 11ms/step - loss: 17.3650 - accuracy: 0.2612 - val_loss: 18.2548 - val_accuracy: 0.2950\n",
            "Epoch 126/300\n",
            "4/4 [==============================] - 0s 14ms/step - loss: 17.9243 - accuracy: 0.2612 - val_loss: 18.1455 - val_accuracy: 0.2950\n",
            "Epoch 127/300\n",
            "4/4 [==============================] - 0s 11ms/step - loss: 19.5115 - accuracy: 0.2612 - val_loss: 18.0262 - val_accuracy: 0.2950\n",
            "Epoch 128/300\n",
            "4/4 [==============================] - 0s 12ms/step - loss: 17.2471 - accuracy: 0.2612 - val_loss: 17.9226 - val_accuracy: 0.2950\n",
            "Epoch 129/300\n",
            "4/4 [==============================] - 0s 12ms/step - loss: 17.5572 - accuracy: 0.2612 - val_loss: 17.8141 - val_accuracy: 0.2950\n",
            "Epoch 130/300\n",
            "4/4 [==============================] - 0s 13ms/step - loss: 17.5439 - accuracy: 0.2612 - val_loss: 17.7044 - val_accuracy: 0.2950\n",
            "Epoch 131/300\n",
            "4/4 [==============================] - 0s 11ms/step - loss: 19.3663 - accuracy: 0.2612 - val_loss: 17.5831 - val_accuracy: 0.2950\n",
            "Epoch 132/300\n",
            "4/4 [==============================] - 0s 12ms/step - loss: 18.3242 - accuracy: 0.2612 - val_loss: 17.4710 - val_accuracy: 0.2950\n",
            "Epoch 133/300\n",
            "4/4 [==============================] - 0s 11ms/step - loss: 17.7757 - accuracy: 0.2612 - val_loss: 17.3617 - val_accuracy: 0.2950\n",
            "Epoch 134/300\n",
            "4/4 [==============================] - 0s 13ms/step - loss: 17.1012 - accuracy: 0.2612 - val_loss: 17.2558 - val_accuracy: 0.2950\n",
            "Epoch 135/300\n",
            "4/4 [==============================] - 0s 14ms/step - loss: 16.8413 - accuracy: 0.2600 - val_loss: 17.1494 - val_accuracy: 0.2950\n",
            "Epoch 136/300\n",
            "4/4 [==============================] - 0s 11ms/step - loss: 16.8119 - accuracy: 0.2600 - val_loss: 17.0403 - val_accuracy: 0.2950\n",
            "Epoch 137/300\n",
            "4/4 [==============================] - 0s 12ms/step - loss: 17.7118 - accuracy: 0.2600 - val_loss: 16.9248 - val_accuracy: 0.2950\n",
            "Epoch 138/300\n",
            "4/4 [==============================] - 0s 14ms/step - loss: 18.0199 - accuracy: 0.2600 - val_loss: 16.8084 - val_accuracy: 0.2950\n",
            "Epoch 139/300\n",
            "4/4 [==============================] - 0s 11ms/step - loss: 17.0896 - accuracy: 0.2600 - val_loss: 16.6985 - val_accuracy: 0.2950\n",
            "Epoch 140/300\n",
            "4/4 [==============================] - 0s 11ms/step - loss: 16.4130 - accuracy: 0.2600 - val_loss: 16.5917 - val_accuracy: 0.2950\n",
            "Epoch 141/300\n",
            "4/4 [==============================] - 0s 11ms/step - loss: 18.3576 - accuracy: 0.2587 - val_loss: 16.4716 - val_accuracy: 0.2950\n",
            "Epoch 142/300\n",
            "4/4 [==============================] - 0s 12ms/step - loss: 15.5759 - accuracy: 0.2575 - val_loss: 16.3721 - val_accuracy: 0.2950\n",
            "Epoch 143/300\n",
            "4/4 [==============================] - 0s 14ms/step - loss: 16.2335 - accuracy: 0.2575 - val_loss: 16.2640 - val_accuracy: 0.2950\n",
            "Epoch 144/300\n",
            "4/4 [==============================] - 0s 14ms/step - loss: 16.1731 - accuracy: 0.2562 - val_loss: 16.1548 - val_accuracy: 0.2900\n",
            "Epoch 145/300\n",
            "4/4 [==============================] - 0s 16ms/step - loss: 16.2448 - accuracy: 0.2562 - val_loss: 16.0433 - val_accuracy: 0.2850\n",
            "Epoch 146/300\n",
            "4/4 [==============================] - 0s 13ms/step - loss: 15.8398 - accuracy: 0.2550 - val_loss: 15.9340 - val_accuracy: 0.2850\n",
            "Epoch 147/300\n",
            "4/4 [==============================] - 0s 11ms/step - loss: 15.7353 - accuracy: 0.2537 - val_loss: 15.8240 - val_accuracy: 0.2850\n",
            "Epoch 148/300\n",
            "4/4 [==============================] - 0s 13ms/step - loss: 16.0697 - accuracy: 0.2537 - val_loss: 15.7108 - val_accuracy: 0.2850\n",
            "Epoch 149/300\n",
            "4/4 [==============================] - 0s 11ms/step - loss: 15.3526 - accuracy: 0.2537 - val_loss: 15.6023 - val_accuracy: 0.2800\n",
            "Epoch 150/300\n",
            "4/4 [==============================] - 0s 12ms/step - loss: 15.9276 - accuracy: 0.2537 - val_loss: 15.4884 - val_accuracy: 0.2800\n",
            "Epoch 151/300\n",
            "4/4 [==============================] - 0s 12ms/step - loss: 16.0568 - accuracy: 0.2537 - val_loss: 15.3738 - val_accuracy: 0.2800\n",
            "Epoch 152/300\n",
            "4/4 [==============================] - 0s 12ms/step - loss: 15.3977 - accuracy: 0.2537 - val_loss: 15.2646 - val_accuracy: 0.2800\n",
            "Epoch 153/300\n",
            "4/4 [==============================] - 0s 11ms/step - loss: 15.4041 - accuracy: 0.2537 - val_loss: 15.1537 - val_accuracy: 0.2800\n",
            "Epoch 154/300\n",
            "4/4 [==============================] - 0s 11ms/step - loss: 14.3464 - accuracy: 0.2537 - val_loss: 15.0498 - val_accuracy: 0.2800\n",
            "Epoch 155/300\n",
            "4/4 [==============================] - 0s 15ms/step - loss: 15.0329 - accuracy: 0.2525 - val_loss: 14.9385 - val_accuracy: 0.2800\n",
            "Epoch 156/300\n",
            "4/4 [==============================] - 0s 11ms/step - loss: 14.9238 - accuracy: 0.2512 - val_loss: 14.8269 - val_accuracy: 0.2800\n",
            "Epoch 157/300\n",
            "4/4 [==============================] - 0s 12ms/step - loss: 14.2733 - accuracy: 0.2512 - val_loss: 14.7190 - val_accuracy: 0.2800\n",
            "Epoch 158/300\n",
            "4/4 [==============================] - 0s 12ms/step - loss: 15.4303 - accuracy: 0.2512 - val_loss: 14.6013 - val_accuracy: 0.2800\n",
            "Epoch 159/300\n",
            "4/4 [==============================] - 0s 12ms/step - loss: 14.8994 - accuracy: 0.2500 - val_loss: 14.4892 - val_accuracy: 0.2800\n",
            "Epoch 160/300\n",
            "4/4 [==============================] - 0s 11ms/step - loss: 14.3186 - accuracy: 0.2500 - val_loss: 14.3808 - val_accuracy: 0.2800\n",
            "Epoch 161/300\n",
            "4/4 [==============================] - 0s 11ms/step - loss: 13.7386 - accuracy: 0.2500 - val_loss: 14.2753 - val_accuracy: 0.2800\n",
            "Epoch 162/300\n",
            "4/4 [==============================] - 0s 13ms/step - loss: 13.9930 - accuracy: 0.2500 - val_loss: 14.1650 - val_accuracy: 0.2800\n",
            "Epoch 163/300\n",
            "4/4 [==============================] - 0s 11ms/step - loss: 13.7313 - accuracy: 0.2500 - val_loss: 14.0565 - val_accuracy: 0.2750\n",
            "Epoch 164/300\n",
            "4/4 [==============================] - 0s 16ms/step - loss: 13.5246 - accuracy: 0.2488 - val_loss: 13.9477 - val_accuracy: 0.2750\n",
            "Epoch 165/300\n",
            "4/4 [==============================] - 0s 12ms/step - loss: 13.4081 - accuracy: 0.2488 - val_loss: 13.8388 - val_accuracy: 0.2750\n",
            "Epoch 166/300\n",
            "4/4 [==============================] - 0s 12ms/step - loss: 14.5789 - accuracy: 0.2488 - val_loss: 13.7196 - val_accuracy: 0.2750\n",
            "Epoch 167/300\n",
            "4/4 [==============================] - 0s 12ms/step - loss: 13.1585 - accuracy: 0.2488 - val_loss: 13.6134 - val_accuracy: 0.2750\n",
            "Epoch 168/300\n",
            "4/4 [==============================] - 0s 12ms/step - loss: 14.6184 - accuracy: 0.2488 - val_loss: 13.4936 - val_accuracy: 0.2750\n",
            "Epoch 169/300\n",
            "4/4 [==============================] - 0s 14ms/step - loss: 13.5554 - accuracy: 0.2488 - val_loss: 13.3845 - val_accuracy: 0.2700\n",
            "Epoch 170/300\n",
            "4/4 [==============================] - 0s 13ms/step - loss: 13.9923 - accuracy: 0.2488 - val_loss: 13.2708 - val_accuracy: 0.2650\n",
            "Epoch 171/300\n",
            "4/4 [==============================] - 0s 14ms/step - loss: 13.7814 - accuracy: 0.2488 - val_loss: 13.1586 - val_accuracy: 0.2650\n",
            "Epoch 172/300\n",
            "4/4 [==============================] - 0s 14ms/step - loss: 13.6511 - accuracy: 0.2475 - val_loss: 13.0470 - val_accuracy: 0.2650\n",
            "Epoch 173/300\n",
            "4/4 [==============================] - 0s 10ms/step - loss: 13.5109 - accuracy: 0.2475 - val_loss: 12.9363 - val_accuracy: 0.2600\n",
            "Epoch 174/300\n",
            "4/4 [==============================] - 0s 13ms/step - loss: 12.5843 - accuracy: 0.2475 - val_loss: 12.8320 - val_accuracy: 0.2600\n",
            "Epoch 175/300\n",
            "4/4 [==============================] - 0s 12ms/step - loss: 13.3749 - accuracy: 0.2475 - val_loss: 12.7187 - val_accuracy: 0.2600\n",
            "Epoch 176/300\n",
            "4/4 [==============================] - 0s 14ms/step - loss: 13.2828 - accuracy: 0.2475 - val_loss: 12.6055 - val_accuracy: 0.2600\n",
            "Epoch 177/300\n",
            "4/4 [==============================] - 0s 12ms/step - loss: 12.8509 - accuracy: 0.2475 - val_loss: 12.4960 - val_accuracy: 0.2600\n",
            "Epoch 178/300\n",
            "4/4 [==============================] - 0s 13ms/step - loss: 12.1677 - accuracy: 0.2475 - val_loss: 12.3913 - val_accuracy: 0.2600\n",
            "Epoch 179/300\n",
            "4/4 [==============================] - 0s 15ms/step - loss: 12.4666 - accuracy: 0.2475 - val_loss: 12.2813 - val_accuracy: 0.2600\n",
            "Epoch 180/300\n",
            "4/4 [==============================] - 0s 11ms/step - loss: 12.8795 - accuracy: 0.2463 - val_loss: 12.1658 - val_accuracy: 0.2600\n",
            "Epoch 181/300\n",
            "4/4 [==============================] - 0s 13ms/step - loss: 11.3906 - accuracy: 0.2463 - val_loss: 12.0646 - val_accuracy: 0.2600\n",
            "Epoch 182/300\n",
            "4/4 [==============================] - 0s 14ms/step - loss: 12.3667 - accuracy: 0.2463 - val_loss: 11.9512 - val_accuracy: 0.2600\n",
            "Epoch 183/300\n",
            "4/4 [==============================] - 0s 16ms/step - loss: 11.6604 - accuracy: 0.2463 - val_loss: 11.8440 - val_accuracy: 0.2600\n",
            "Epoch 184/300\n",
            "4/4 [==============================] - 0s 12ms/step - loss: 11.9833 - accuracy: 0.2463 - val_loss: 11.7320 - val_accuracy: 0.2550\n",
            "Epoch 185/300\n",
            "4/4 [==============================] - 0s 13ms/step - loss: 12.0118 - accuracy: 0.2463 - val_loss: 11.6192 - val_accuracy: 0.2550\n",
            "Epoch 186/300\n",
            "4/4 [==============================] - 0s 12ms/step - loss: 11.8765 - accuracy: 0.2450 - val_loss: 11.5073 - val_accuracy: 0.2550\n",
            "Epoch 187/300\n",
            "4/4 [==============================] - 0s 11ms/step - loss: 11.3130 - accuracy: 0.2438 - val_loss: 11.3998 - val_accuracy: 0.2550\n",
            "Epoch 188/300\n",
            "4/4 [==============================] - 0s 12ms/step - loss: 11.2174 - accuracy: 0.2438 - val_loss: 11.2910 - val_accuracy: 0.2500\n",
            "Epoch 189/300\n",
            "4/4 [==============================] - 0s 13ms/step - loss: 11.1468 - accuracy: 0.2438 - val_loss: 11.1821 - val_accuracy: 0.2500\n",
            "Epoch 190/300\n",
            "4/4 [==============================] - 0s 14ms/step - loss: 10.5576 - accuracy: 0.2438 - val_loss: 11.0774 - val_accuracy: 0.2500\n",
            "Epoch 191/300\n",
            "4/4 [==============================] - 0s 12ms/step - loss: 11.3438 - accuracy: 0.2438 - val_loss: 10.9619 - val_accuracy: 0.2500\n",
            "Epoch 192/300\n",
            "4/4 [==============================] - 0s 13ms/step - loss: 11.3401 - accuracy: 0.2438 - val_loss: 10.8469 - val_accuracy: 0.2500\n",
            "Epoch 193/300\n",
            "4/4 [==============================] - 0s 17ms/step - loss: 10.5960 - accuracy: 0.2425 - val_loss: 10.7398 - val_accuracy: 0.2500\n",
            "Epoch 194/300\n",
            "4/4 [==============================] - 0s 13ms/step - loss: 10.5303 - accuracy: 0.2425 - val_loss: 10.6311 - val_accuracy: 0.2500\n",
            "Epoch 195/300\n",
            "4/4 [==============================] - 0s 18ms/step - loss: 10.5248 - accuracy: 0.2425 - val_loss: 10.5204 - val_accuracy: 0.2500\n",
            "Epoch 196/300\n",
            "4/4 [==============================] - 0s 14ms/step - loss: 10.5412 - accuracy: 0.2425 - val_loss: 10.4087 - val_accuracy: 0.2500\n",
            "Epoch 197/300\n",
            "4/4 [==============================] - 0s 12ms/step - loss: 10.3462 - accuracy: 0.2425 - val_loss: 10.2984 - val_accuracy: 0.2500\n",
            "Epoch 198/300\n",
            "4/4 [==============================] - 0s 13ms/step - loss: 10.0831 - accuracy: 0.2425 - val_loss: 10.1897 - val_accuracy: 0.2500\n",
            "Epoch 199/300\n",
            "4/4 [==============================] - 0s 16ms/step - loss: 9.8107 - accuracy: 0.2425 - val_loss: 10.0824 - val_accuracy: 0.2500\n",
            "Epoch 200/300\n",
            "4/4 [==============================] - 0s 12ms/step - loss: 10.1126 - accuracy: 0.2425 - val_loss: 9.9697 - val_accuracy: 0.2500\n",
            "Epoch 201/300\n",
            "4/4 [==============================] - 0s 13ms/step - loss: 10.2258 - accuracy: 0.2425 - val_loss: 9.8551 - val_accuracy: 0.2500\n",
            "Epoch 202/300\n",
            "4/4 [==============================] - 0s 12ms/step - loss: 9.5720 - accuracy: 0.2425 - val_loss: 9.7478 - val_accuracy: 0.2500\n",
            "Epoch 203/300\n",
            "4/4 [==============================] - 0s 15ms/step - loss: 9.5230 - accuracy: 0.2425 - val_loss: 9.6393 - val_accuracy: 0.2500\n",
            "Epoch 204/300\n",
            "4/4 [==============================] - 0s 13ms/step - loss: 9.6537 - accuracy: 0.2412 - val_loss: 9.5276 - val_accuracy: 0.2500\n",
            "Epoch 205/300\n",
            "4/4 [==============================] - 0s 11ms/step - loss: 9.3942 - accuracy: 0.2412 - val_loss: 9.4180 - val_accuracy: 0.2500\n",
            "Epoch 206/300\n",
            "4/4 [==============================] - 0s 16ms/step - loss: 9.0231 - accuracy: 0.2412 - val_loss: 9.3115 - val_accuracy: 0.2450\n",
            "Epoch 207/300\n",
            "4/4 [==============================] - 0s 12ms/step - loss: 8.9368 - accuracy: 0.2412 - val_loss: 9.2037 - val_accuracy: 0.2450\n",
            "Epoch 208/300\n",
            "4/4 [==============================] - 0s 13ms/step - loss: 9.2239 - accuracy: 0.2412 - val_loss: 9.0900 - val_accuracy: 0.2450\n",
            "Epoch 209/300\n",
            "4/4 [==============================] - 0s 15ms/step - loss: 8.7019 - accuracy: 0.2412 - val_loss: 8.9832 - val_accuracy: 0.2450\n",
            "Epoch 210/300\n",
            "4/4 [==============================] - 0s 11ms/step - loss: 8.8428 - accuracy: 0.2412 - val_loss: 8.8716 - val_accuracy: 0.2450\n",
            "Epoch 211/300\n",
            "4/4 [==============================] - 0s 12ms/step - loss: 9.2269 - accuracy: 0.2412 - val_loss: 8.7546 - val_accuracy: 0.2400\n",
            "Epoch 212/300\n",
            "4/4 [==============================] - 0s 15ms/step - loss: 8.6747 - accuracy: 0.2400 - val_loss: 8.6458 - val_accuracy: 0.2400\n",
            "Epoch 213/300\n",
            "4/4 [==============================] - 0s 12ms/step - loss: 9.1897 - accuracy: 0.2375 - val_loss: 8.5291 - val_accuracy: 0.2400\n",
            "Epoch 214/300\n",
            "4/4 [==============================] - 0s 13ms/step - loss: 8.2811 - accuracy: 0.2338 - val_loss: 8.4250 - val_accuracy: 0.2400\n",
            "Epoch 215/300\n",
            "4/4 [==============================] - 0s 13ms/step - loss: 8.7291 - accuracy: 0.2325 - val_loss: 8.3111 - val_accuracy: 0.2400\n",
            "Epoch 216/300\n",
            "4/4 [==============================] - 0s 13ms/step - loss: 8.4670 - accuracy: 0.2325 - val_loss: 8.2015 - val_accuracy: 0.2400\n",
            "Epoch 217/300\n",
            "4/4 [==============================] - 0s 13ms/step - loss: 8.2847 - accuracy: 0.2313 - val_loss: 8.0916 - val_accuracy: 0.2400\n",
            "Epoch 218/300\n",
            "4/4 [==============================] - 0s 13ms/step - loss: 8.0271 - accuracy: 0.2313 - val_loss: 7.9843 - val_accuracy: 0.2400\n",
            "Epoch 219/300\n",
            "4/4 [==============================] - 0s 13ms/step - loss: 8.0137 - accuracy: 0.2300 - val_loss: 7.8753 - val_accuracy: 0.2350\n",
            "Epoch 220/300\n",
            "4/4 [==============================] - 0s 13ms/step - loss: 7.8106 - accuracy: 0.2300 - val_loss: 7.7674 - val_accuracy: 0.2300\n",
            "Epoch 221/300\n",
            "4/4 [==============================] - 0s 13ms/step - loss: 7.7435 - accuracy: 0.2300 - val_loss: 7.6578 - val_accuracy: 0.2300\n",
            "Epoch 222/300\n",
            "4/4 [==============================] - 0s 15ms/step - loss: 7.7950 - accuracy: 0.2275 - val_loss: 7.5458 - val_accuracy: 0.2300\n",
            "Epoch 223/300\n",
            "4/4 [==============================] - 0s 12ms/step - loss: 7.2475 - accuracy: 0.2275 - val_loss: 7.4411 - val_accuracy: 0.2250\n",
            "Epoch 224/300\n",
            "4/4 [==============================] - 0s 13ms/step - loss: 7.2925 - accuracy: 0.2275 - val_loss: 7.3330 - val_accuracy: 0.2250\n",
            "Epoch 225/300\n",
            "4/4 [==============================] - 0s 14ms/step - loss: 7.2095 - accuracy: 0.2250 - val_loss: 7.2233 - val_accuracy: 0.2250\n",
            "Epoch 226/300\n",
            "4/4 [==============================] - 0s 14ms/step - loss: 7.0971 - accuracy: 0.2237 - val_loss: 7.1141 - val_accuracy: 0.2250\n",
            "Epoch 227/300\n",
            "4/4 [==============================] - 0s 12ms/step - loss: 7.0433 - accuracy: 0.2212 - val_loss: 7.0038 - val_accuracy: 0.2200\n",
            "Epoch 228/300\n",
            "4/4 [==============================] - 0s 11ms/step - loss: 7.0258 - accuracy: 0.2212 - val_loss: 6.8930 - val_accuracy: 0.2200\n",
            "Epoch 229/300\n",
            "4/4 [==============================] - 0s 13ms/step - loss: 7.0134 - accuracy: 0.2212 - val_loss: 6.7801 - val_accuracy: 0.2200\n",
            "Epoch 230/300\n",
            "4/4 [==============================] - 0s 13ms/step - loss: 6.8539 - accuracy: 0.2200 - val_loss: 6.6685 - val_accuracy: 0.2200\n",
            "Epoch 231/300\n",
            "4/4 [==============================] - 0s 16ms/step - loss: 6.3693 - accuracy: 0.2188 - val_loss: 6.5640 - val_accuracy: 0.2150\n",
            "Epoch 232/300\n",
            "4/4 [==============================] - 0s 12ms/step - loss: 6.5584 - accuracy: 0.2175 - val_loss: 6.4540 - val_accuracy: 0.2100\n",
            "Epoch 233/300\n",
            "4/4 [==============================] - 0s 13ms/step - loss: 6.3632 - accuracy: 0.2150 - val_loss: 6.3454 - val_accuracy: 0.2100\n",
            "Epoch 234/300\n",
            "4/4 [==============================] - 0s 13ms/step - loss: 6.2495 - accuracy: 0.2150 - val_loss: 6.2366 - val_accuracy: 0.2100\n",
            "Epoch 235/300\n",
            "4/4 [==============================] - 0s 14ms/step - loss: 6.3215 - accuracy: 0.2125 - val_loss: 6.1248 - val_accuracy: 0.2100\n",
            "Epoch 236/300\n",
            "4/4 [==============================] - 0s 12ms/step - loss: 5.9201 - accuracy: 0.2113 - val_loss: 6.0188 - val_accuracy: 0.2100\n",
            "Epoch 237/300\n",
            "4/4 [==============================] - 0s 13ms/step - loss: 5.8630 - accuracy: 0.2100 - val_loss: 5.9114 - val_accuracy: 0.2100\n",
            "Epoch 238/300\n",
            "4/4 [==============================] - 0s 13ms/step - loss: 5.7992 - accuracy: 0.2100 - val_loss: 5.8024 - val_accuracy: 0.2100\n",
            "Epoch 239/300\n",
            "4/4 [==============================] - 0s 14ms/step - loss: 5.9793 - accuracy: 0.2087 - val_loss: 5.6879 - val_accuracy: 0.2100\n",
            "Epoch 240/300\n",
            "4/4 [==============================] - 0s 12ms/step - loss: 5.8931 - accuracy: 0.2062 - val_loss: 5.5752 - val_accuracy: 0.2100\n",
            "Epoch 241/300\n",
            "4/4 [==============================] - 0s 17ms/step - loss: 5.3852 - accuracy: 0.2062 - val_loss: 5.4719 - val_accuracy: 0.2050\n",
            "Epoch 242/300\n",
            "4/4 [==============================] - 0s 14ms/step - loss: 5.2978 - accuracy: 0.2062 - val_loss: 5.3681 - val_accuracy: 0.2050\n",
            "Epoch 243/300\n",
            "4/4 [==============================] - 0s 13ms/step - loss: 5.5584 - accuracy: 0.2050 - val_loss: 5.2541 - val_accuracy: 0.2050\n",
            "Epoch 244/300\n",
            "4/4 [==============================] - 0s 13ms/step - loss: 5.3054 - accuracy: 0.2037 - val_loss: 5.1447 - val_accuracy: 0.2050\n",
            "Epoch 245/300\n",
            "4/4 [==============================] - 0s 13ms/step - loss: 5.0750 - accuracy: 0.2037 - val_loss: 5.0383 - val_accuracy: 0.2000\n",
            "Epoch 246/300\n",
            "4/4 [==============================] - 0s 13ms/step - loss: 4.8094 - accuracy: 0.2037 - val_loss: 4.9357 - val_accuracy: 0.2000\n",
            "Epoch 247/300\n",
            "4/4 [==============================] - 0s 13ms/step - loss: 4.8106 - accuracy: 0.2013 - val_loss: 4.8301 - val_accuracy: 0.2000\n",
            "Epoch 248/300\n",
            "4/4 [==============================] - 0s 13ms/step - loss: 4.8991 - accuracy: 0.2013 - val_loss: 4.7171 - val_accuracy: 0.1900\n",
            "Epoch 249/300\n",
            "4/4 [==============================] - 0s 14ms/step - loss: 4.6101 - accuracy: 0.1937 - val_loss: 4.6112 - val_accuracy: 0.1900\n",
            "Epoch 250/300\n",
            "4/4 [==============================] - 0s 12ms/step - loss: 4.6008 - accuracy: 0.1937 - val_loss: 4.5027 - val_accuracy: 0.1900\n",
            "Epoch 251/300\n",
            "4/4 [==============================] - 0s 18ms/step - loss: 4.4857 - accuracy: 0.1887 - val_loss: 4.3934 - val_accuracy: 0.1900\n",
            "Epoch 252/300\n",
            "4/4 [==============================] - 0s 15ms/step - loss: 4.1834 - accuracy: 0.1863 - val_loss: 4.2912 - val_accuracy: 0.1900\n",
            "Epoch 253/300\n",
            "4/4 [==============================] - 0s 11ms/step - loss: 4.1650 - accuracy: 0.1863 - val_loss: 4.1856 - val_accuracy: 0.1850\n",
            "Epoch 254/300\n",
            "4/4 [==============================] - 0s 13ms/step - loss: 4.1249 - accuracy: 0.1863 - val_loss: 4.0782 - val_accuracy: 0.1800\n",
            "Epoch 255/300\n",
            "4/4 [==============================] - 0s 13ms/step - loss: 3.9830 - accuracy: 0.1825 - val_loss: 3.9714 - val_accuracy: 0.1700\n",
            "Epoch 256/300\n",
            "4/4 [==============================] - 0s 12ms/step - loss: 3.8858 - accuracy: 0.1800 - val_loss: 3.8644 - val_accuracy: 0.1700\n",
            "Epoch 257/300\n",
            "4/4 [==============================] - 0s 12ms/step - loss: 3.7923 - accuracy: 0.1750 - val_loss: 3.7577 - val_accuracy: 0.1650\n",
            "Epoch 258/300\n",
            "4/4 [==============================] - 0s 12ms/step - loss: 3.7436 - accuracy: 0.1725 - val_loss: 3.6486 - val_accuracy: 0.1550\n",
            "Epoch 259/300\n",
            "4/4 [==============================] - 0s 12ms/step - loss: 3.7587 - accuracy: 0.1700 - val_loss: 3.5356 - val_accuracy: 0.1550\n",
            "Epoch 260/300\n",
            "4/4 [==============================] - 0s 17ms/step - loss: 3.5425 - accuracy: 0.1700 - val_loss: 3.4309 - val_accuracy: 0.1500\n",
            "Epoch 261/300\n",
            "4/4 [==============================] - 0s 13ms/step - loss: 3.4933 - accuracy: 0.1637 - val_loss: 3.3229 - val_accuracy: 0.1400\n",
            "Epoch 262/300\n",
            "4/4 [==============================] - 0s 13ms/step - loss: 3.3290 - accuracy: 0.1575 - val_loss: 3.2191 - val_accuracy: 0.1300\n",
            "Epoch 263/300\n",
            "4/4 [==============================] - 0s 12ms/step - loss: 3.0809 - accuracy: 0.1550 - val_loss: 3.1211 - val_accuracy: 0.1300\n",
            "Epoch 264/300\n",
            "4/4 [==============================] - 0s 13ms/step - loss: 3.0674 - accuracy: 0.1500 - val_loss: 3.0172 - val_accuracy: 0.1300\n",
            "Epoch 265/300\n",
            "4/4 [==============================] - 0s 12ms/step - loss: 3.1159 - accuracy: 0.1462 - val_loss: 2.9065 - val_accuracy: 0.1200\n",
            "Epoch 266/300\n",
            "4/4 [==============================] - 0s 14ms/step - loss: 2.8562 - accuracy: 0.1363 - val_loss: 2.8050 - val_accuracy: 0.1200\n",
            "Epoch 267/300\n",
            "4/4 [==============================] - 0s 11ms/step - loss: 2.8187 - accuracy: 0.1287 - val_loss: 2.6997 - val_accuracy: 0.1200\n",
            "Epoch 268/300\n",
            "4/4 [==============================] - 0s 12ms/step - loss: 2.5846 - accuracy: 0.1187 - val_loss: 2.6068 - val_accuracy: 0.1150\n",
            "Epoch 269/300\n",
            "4/4 [==============================] - 0s 12ms/step - loss: 2.5919 - accuracy: 0.1138 - val_loss: 2.5032 - val_accuracy: 0.1100\n",
            "Epoch 270/300\n",
            "4/4 [==============================] - 0s 14ms/step - loss: 2.5107 - accuracy: 0.1100 - val_loss: 2.3994 - val_accuracy: 0.1050\n",
            "Epoch 271/300\n",
            "4/4 [==============================] - 0s 11ms/step - loss: 2.2712 - accuracy: 0.1013 - val_loss: 2.3084 - val_accuracy: 0.1050\n",
            "Epoch 272/300\n",
            "4/4 [==============================] - 0s 11ms/step - loss: 2.2244 - accuracy: 0.0962 - val_loss: 2.2124 - val_accuracy: 0.1000\n",
            "Epoch 273/300\n",
            "4/4 [==============================] - 0s 12ms/step - loss: 2.0852 - accuracy: 0.0913 - val_loss: 2.1200 - val_accuracy: 0.0950\n",
            "Epoch 274/300\n",
            "4/4 [==============================] - 0s 11ms/step - loss: 2.0463 - accuracy: 0.0812 - val_loss: 2.0241 - val_accuracy: 0.0800\n",
            "Epoch 275/300\n",
            "4/4 [==============================] - 0s 12ms/step - loss: 2.0325 - accuracy: 0.0700 - val_loss: 1.9222 - val_accuracy: 0.0750\n",
            "Epoch 276/300\n",
            "4/4 [==============================] - 0s 13ms/step - loss: 1.9258 - accuracy: 0.0562 - val_loss: 1.8254 - val_accuracy: 0.0650\n",
            "Epoch 277/300\n",
            "4/4 [==============================] - 0s 12ms/step - loss: 1.8195 - accuracy: 0.0487 - val_loss: 1.7341 - val_accuracy: 0.0550\n",
            "Epoch 278/300\n",
            "4/4 [==============================] - 0s 13ms/step - loss: 1.6881 - accuracy: 0.0375 - val_loss: 1.6502 - val_accuracy: 0.0400\n",
            "Epoch 279/300\n",
            "4/4 [==============================] - 0s 14ms/step - loss: 1.5691 - accuracy: 0.0262 - val_loss: 1.5775 - val_accuracy: 0.0300\n",
            "Epoch 280/300\n",
            "4/4 [==============================] - 0s 12ms/step - loss: 1.5379 - accuracy: 0.0188 - val_loss: 1.4963 - val_accuracy: 0.0100\n",
            "Epoch 281/300\n",
            "4/4 [==============================] - 0s 14ms/step - loss: 1.4565 - accuracy: 0.0162 - val_loss: 1.4212 - val_accuracy: 0.0100\n",
            "Epoch 282/300\n",
            "4/4 [==============================] - 0s 12ms/step - loss: 1.3876 - accuracy: 0.0100 - val_loss: 1.3465 - val_accuracy: 0.0100\n",
            "Epoch 283/300\n",
            "4/4 [==============================] - 0s 12ms/step - loss: 1.2980 - accuracy: 0.0113 - val_loss: 1.2818 - val_accuracy: 0.0150\n",
            "Epoch 284/300\n",
            "4/4 [==============================] - 0s 15ms/step - loss: 1.2293 - accuracy: 0.0113 - val_loss: 1.2208 - val_accuracy: 0.0150\n",
            "Epoch 285/300\n",
            "4/4 [==============================] - 0s 12ms/step - loss: 1.1860 - accuracy: 0.0262 - val_loss: 1.1607 - val_accuracy: 0.0300\n",
            "Epoch 286/300\n",
            "4/4 [==============================] - 0s 11ms/step - loss: 1.1181 - accuracy: 0.0425 - val_loss: 1.1110 - val_accuracy: 0.0550\n",
            "Epoch 287/300\n",
            "4/4 [==============================] - 0s 13ms/step - loss: 1.1005 - accuracy: 0.0825 - val_loss: 1.0649 - val_accuracy: 0.1050\n",
            "Epoch 288/300\n",
            "4/4 [==============================] - 0s 13ms/step - loss: 1.0187 - accuracy: 0.1637 - val_loss: 1.0214 - val_accuracy: 0.2750\n",
            "Epoch 289/300\n",
            "4/4 [==============================] - 0s 17ms/step - loss: 0.9969 - accuracy: 0.3113 - val_loss: 0.9827 - val_accuracy: 0.3900\n",
            "Epoch 290/300\n",
            "4/4 [==============================] - 0s 15ms/step - loss: 0.9531 - accuracy: 0.4475 - val_loss: 0.9431 - val_accuracy: 0.4850\n",
            "Epoch 291/300\n",
            "4/4 [==============================] - 0s 12ms/step - loss: 0.9261 - accuracy: 0.5013 - val_loss: 0.9134 - val_accuracy: 0.4850\n",
            "Epoch 292/300\n",
            "4/4 [==============================] - 0s 14ms/step - loss: 0.8961 - accuracy: 0.5013 - val_loss: 0.8848 - val_accuracy: 0.4850\n",
            "Epoch 293/300\n",
            "4/4 [==============================] - 0s 12ms/step - loss: 0.8721 - accuracy: 0.5013 - val_loss: 0.8615 - val_accuracy: 0.4850\n",
            "Epoch 294/300\n",
            "4/4 [==============================] - 0s 12ms/step - loss: 0.8317 - accuracy: 0.5013 - val_loss: 0.8385 - val_accuracy: 0.4850\n",
            "Epoch 295/300\n",
            "4/4 [==============================] - 0s 12ms/step - loss: 0.7943 - accuracy: 0.5013 - val_loss: 0.8194 - val_accuracy: 0.4850\n",
            "Epoch 296/300\n",
            "4/4 [==============================] - 0s 12ms/step - loss: 0.8125 - accuracy: 0.5013 - val_loss: 0.8048 - val_accuracy: 0.4850\n",
            "Epoch 297/300\n",
            "4/4 [==============================] - 0s 13ms/step - loss: 0.8060 - accuracy: 0.5013 - val_loss: 0.7916 - val_accuracy: 0.4850\n",
            "Epoch 298/300\n",
            "4/4 [==============================] - 0s 13ms/step - loss: 0.7304 - accuracy: 0.5013 - val_loss: 0.7778 - val_accuracy: 0.4850\n",
            "Epoch 299/300\n",
            "4/4 [==============================] - 0s 14ms/step - loss: 0.7485 - accuracy: 0.5013 - val_loss: 0.7672 - val_accuracy: 0.4850\n",
            "Epoch 300/300\n",
            "4/4 [==============================] - 0s 11ms/step - loss: 0.7341 - accuracy: 0.5013 - val_loss: 0.7585 - val_accuracy: 0.4850\n",
            "Test score: 0.7734971642494202\n",
            "Test accuracy: 0.48500001430511475\n"
          ],
          "name": "stdout"
        }
      ]
    },
    {
      "cell_type": "code",
      "metadata": {
        "id": "WZg_dVjm1yt9",
        "colab_type": "code",
        "colab": {}
      },
      "source": [
        "dense_layer = model.layers[0]\n",
        "weights, bias = dense_layer.get_weights()\n",
        "\n",
        "w_1 = weights[0]\n",
        "w_2 = weights[1]\n",
        "b_1 = bias\n",
        "\n",
        "my_weight = 20\n",
        "my_bias = 10\n",
        "my_mu = 20\n",
        "my_sigma = 6\n",
        "my_m = 10000"
      ],
      "execution_count": 0,
      "outputs": []
    },
    {
      "cell_type": "code",
      "metadata": {
        "id": "MbhQHFBR10zO",
        "colab_type": "code",
        "colab": {
          "base_uri": "https://localhost:8080/",
          "height": 282
        },
        "outputId": "9c418494-1e43-4c46-efd2-e28e3f364232"
      },
      "source": [
        "# Creating the graph of Real versus Trained data\n",
        "display_random_data(d, l)\n",
        "x_1 = np.linspace(0, 1)\n",
        "x_2_truth = x_1 * my_weight + my_bias\n",
        "x_2_pred = x_1 * (-w_1/w_2) + (-b_1/w_2)\n",
        "plt.plot(x_1, x_2_truth, c='black', label='Actual Line')\n",
        "plt.plot(x_1, x_2_pred, c='green', label='ML Line')\n",
        "plt.legend()"
      ],
      "execution_count": 118,
      "outputs": [
        {
          "output_type": "execute_result",
          "data": {
            "text/plain": [
              "<matplotlib.legend.Legend at 0x7fbb5ec4f550>"
            ]
          },
          "metadata": {
            "tags": []
          },
          "execution_count": 118
        },
        {
          "output_type": "display_data",
          "data": {
            "image/png": "[encoded data removed]",
            "text/plain": [
              "<Figure size 432x288 with 1 Axes>"
            ]
          },
          "metadata": {
            "tags": []
          }
        }
      ]
    },
    {
      "cell_type": "code",
      "metadata": {
        "id": "cjWmF46814GX",
        "colab_type": "code",
        "colab": {
          "base_uri": "https://localhost:8080/",
          "height": 281
        },
        "outputId": "1cc46df7-2f74-4d96-a942-d447d3004ada"
      },
      "source": [
        "y, x = np.meshgrid(np.linspace(-40, 80, 100), np.linspace(0, 1, 100))\n",
        "\n",
        "z = w_1 * x + w_2 * y + bias\n",
        "z = z[:-1, :-1]\n",
        "z_min, z_max = -np.abs(z).max(), np.abs(z).max()\n",
        "\n",
        "fig, ax = plt.subplots()\n",
        "\n",
        "c = ax.pcolormesh(x, y, z, cmap='RdBu', vmin=z_min, vmax=z_max)\n",
        "ax.set_title('pcolormesh')\n",
        "ax.axis([x.min(), x.max(), y.min(), y.max()])\n",
        "fig.colorbar(c, ax=ax)\n",
        "\n",
        "plt.show()"
      ],
      "execution_count": 120,
      "outputs": [
        {
          "output_type": "display_data",
          "data": {
            "image/png": "[encoded data removed]",
            "text/plain": [
              "<Figure size 432x288 with 2 Axes>"
            ]
          },
          "metadata": {
            "tags": []
          }
        }
      ]
    },
    {
      "cell_type": "markdown",
      "metadata": {
        "id": "7bt_e2iDjpdB",
        "colab_type": "text"
      },
      "source": [
        "#**Problem 3**\n",
        "\n",
        "Use numpy to implement a logistic regression model from scratch and train it with the data generated as in Problem 1.\n",
        "\n",
        "Sigmoid:\n",
        "$ \\frac{1}{1 + e^-z} $\n",
        "\n",
        "Binary Cross-Entropy Loss Function: \n",
        "\n",
        "***-yloga-(1-y)log(1-a)***"
      ]
    },
    {
      "cell_type": "code",
      "metadata": {
        "id": "mnVJJ2IwHDHs",
        "colab_type": "code",
        "colab": {}
      },
      "source": [
        "import numpy as np\n",
        "%matplotlib inline\n",
        "import matplotlib as mpl\n",
        "import matplotlib.pyplot as plt\n",
        "mpl.rc('axes', labelsize=14)\n",
        "mpl.rc('xtick', labelsize=12)\n",
        "mpl.rc('ytick', labelsize=12)"
      ],
      "execution_count": 0,
      "outputs": []
    },
    {
      "cell_type": "code",
      "metadata": {
        "id": "-S66dqdUZ5hL",
        "colab_type": "code",
        "colab": {}
      },
      "source": [
        "np.random.seed(42)\n",
        "\n",
        "xs = 2 * np.random.rand(100, 1)\n",
        "ys = 4 + 3 * xs + np.random.rand(100, 1)"
      ],
      "execution_count": 0,
      "outputs": []
    },
    {
      "cell_type": "code",
      "metadata": {
        "id": "veHMDPThZ73h",
        "colab_type": "code",
        "colab": {}
      },
      "source": [
        "plt.plot(xs, ys, \"b.\")\n",
        "plt.xlabel(\"$x_1$\", fontsize=18)\n",
        "plt.ylabel(\"$y$\", rotation=0, fontsize=18)\n",
        "plt.axis([0, 2, 0, 15])\n",
        "plt.show()"
      ],
      "execution_count": 0,
      "outputs": []
    },
    {
      "cell_type": "code",
      "metadata": {
        "id": "1JWjxYAAZ9cZ",
        "colab_type": "code",
        "colab": {}
      },
      "source": [
        "# split the data into training and test sets\n",
        "# train set\n",
        "train_xs = xs[:80]\n",
        "train_ys = ys[:80]\n",
        "# test set\n",
        "test_xs = xs[80:]\n",
        "test_ys = ys[80:]"
      ],
      "execution_count": 0,
      "outputs": []
    },
    {
      "cell_type": "code",
      "metadata": {
        "id": "WugjDJAzaGPj",
        "colab_type": "code",
        "colab": {}
      },
      "source": [
        "# number of epochs\n",
        "epochs = 10\n",
        "# learning rate\n",
        "lr = 0.01"
      ],
      "execution_count": 0,
      "outputs": []
    },
    {
      "cell_type": "code",
      "metadata": {
        "id": "zKaJn7I4aID6",
        "colab_type": "code",
        "colab": {}
      },
      "source": [
        "# initial value for weight w and bias b\n",
        "w = np.random.randn(1)\n",
        "w_2 = np.random.randn(1)\n",
        "b = np.zeros(1)"
      ],
      "execution_count": 0,
      "outputs": []
    },
    {
      "cell_type": "code",
      "metadata": {
        "id": "5Cu0TT65aJ72",
        "colab_type": "code",
        "colab": {}
      },
      "source": [
        "for epoch in np.arange(epochs):\n",
        "  for i in np.arange(80):\n",
        "    y_pred = w * train_xs[i] + w_2 * training_data[i][1] + b\n",
        "    a = sigmoid(y_pred)\n",
        "    \n",
        "    grad_w = (a - training_labels[i]) * training_data[i][0]\n",
        "    grad_w_2 = (a - training_labels[i]) * training_data[i][1]\n",
        "    grad_b = (a - training_labels[i])\n",
        "    \n",
        "    w -= lr * grad_w\n",
        "    b -= lr * grad_b\n",
        "    w_2 -= lr * grad_w_2"
      ],
      "execution_count": 0,
      "outputs": []
    },
    {
      "cell_type": "code",
      "metadata": {
        "id": "DnhA-3yfaMI2",
        "colab_type": "code",
        "colab": {}
      },
      "source": [
        "test_loss = 0\n",
        "for i in np.arange(20):\n",
        "  test_loss += 0.5 * (w * test_xs[i] + b - test_ys[i]) ** 2\n",
        "test_loss /= 20"
      ],
      "execution_count": 0,
      "outputs": []
    },
    {
      "cell_type": "code",
      "metadata": {
        "id": "rPHzRnRCaPZj",
        "colab_type": "code",
        "colab": {}
      },
      "source": [
        "test_loss"
      ],
      "execution_count": 0,
      "outputs": []
    },
    {
      "cell_type": "code",
      "metadata": {
        "id": "QH1JO9kDaP_C",
        "colab_type": "code",
        "colab": {}
      },
      "source": [
        "pred_ys = w * test_xs + b"
      ],
      "execution_count": 0,
      "outputs": []
    },
    {
      "cell_type": "code",
      "metadata": {
        "id": "VYxYW7_7aRv9",
        "colab_type": "code",
        "colab": {}
      },
      "source": [
        "plt.plot(test_xs, test_ys, \"b.\")\n",
        "plt.plot(test_xs, pred_ys, \"r.\") # predicted values\n",
        "plt.xlabel(\"$x_1$\", fontsize=18)\n",
        "plt.ylabel(\"$y$\", rotation=0, fontsize=18)\n",
        "plt.axis([0, 2, 0, 15])\n",
        "plt.show()"
      ],
      "execution_count": 0,
      "outputs": []
    },
    {
      "cell_type": "code",
      "metadata": {
        "id": "4sLeMtTCaTtL",
        "colab_type": "code",
        "colab": {}
      },
      "source": [
        "b"
      ],
      "execution_count": 0,
      "outputs": []
    },
    {
      "cell_type": "code",
      "metadata": {
        "id": "TvU2aYF2aVgB",
        "colab_type": "code",
        "colab": {}
      },
      "source": [
        "w"
      ],
      "execution_count": 0,
      "outputs": []
    },
    {
      "cell_type": "markdown",
      "metadata": {
        "id": "rAFyXHQ4abDO",
        "colab_type": "text"
      },
      "source": [
        "#**Sources**"
      ]
    },
    {
      "cell_type": "markdown",
      "metadata": {
        "id": "M4IdgOUuk3Vw",
        "colab_type": "text"
      },
      "source": [
        "https://ml-cheatsheet.readthedocs.io/en/latest/loss_functions.html\n",
        "https://colab.research.google.com/drive/1ZKa5sIiSgS8P1RuNyH6yYcZ6F9S7Yiwu"
      ]
    }
  ]
}