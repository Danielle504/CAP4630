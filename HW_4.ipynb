{
  "nbformat": 4,
  "nbformat_minor": 0,
  "metadata": {
    "colab": {
      "name": "HW_4.ipynb",
      "provenance": [],
      "collapsed_sections": [],
      "authorship_tag": "ABX9TyO2jM4OEGZ73FmlLNyo2hLz",
      "include_colab_link": true
    },
    "kernelspec": {
      "name": "python3",
      "display_name": "Python 3"
    }
  },
  "cells": [
    {
      "cell_type": "markdown",
      "metadata": {
        "id": "view-in-github",
        "colab_type": "text"
      },
      "source": [
        "<a href=\"https://colab.research.google.com/github/Danielle504/CAP4630/blob/master/HW_4.ipynb\" target=\"_parent\"><img src=\"https://colab.research.google.com/assets/colab-badge.svg\" alt=\"Open In Colab\"/></a>"
      ]
    },
    {
      "cell_type": "markdown",
      "metadata": {
        "id": "4vjIKK2iqwGw",
        "colab_type": "text"
      },
      "source": [
        "Homework 4"
      ]
    },
    {
      "cell_type": "markdown",
      "metadata": {
        "id": "isEI5CW2qzIj",
        "colab_type": "text"
      },
      "source": [
        "Number 1\n",
        "\n",
        "Using only numpy, implement the function conv2d. It takes as input input_mat and kernel_mat and outputs output_mat. All variables are square matrices. It should compute the convolution of input_mat with the kernel kernel_mat using valid padding.\n",
        "\n",
        "Note that the size s of the kernel matrix can also be an even number."
      ]
    },
    {
      "cell_type": "code",
      "metadata": {
        "id": "YqrBp709m3A1",
        "colab_type": "code",
        "colab": {}
      },
      "source": [
        "import numpy as np"
      ],
      "execution_count": 0,
      "outputs": []
    },
    {
      "cell_type": "code",
      "metadata": {
        "id": "y0SLXm-srKnG",
        "colab_type": "code",
        "colab": {}
      },
      "source": [
        "def conv2d(input_mat, kernel_mat):\n",
        "\n",
        "  if(np.shape(input_mat) < np.shape(kernel_mat)):\n",
        "\n",
        "    print(\"ERROR: Kernel > Input\")\n",
        "    return []\n",
        "\n",
        "  return output_mat"
      ],
      "execution_count": 0,
      "outputs": []
    }
  ]
}