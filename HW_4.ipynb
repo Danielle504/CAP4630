{
  "nbformat": 4,
  "nbformat_minor": 0,
  "metadata": {
    "colab": {
      "name": "HW_4.ipynb",
      "provenance": [],
      "collapsed_sections": [],
      "authorship_tag": "ABX9TyMIf4dLX38dl+lgN/fbKoZv",
      "include_colab_link": true
    },
    "kernelspec": {
      "name": "python3",
      "display_name": "Python 3"
    }
  },
  "cells": [
    {
      "cell_type": "markdown",
      "metadata": {
        "id": "view-in-github",
        "colab_type": "text"
      },
      "source": [
        "<a href=\"https://colab.research.google.com/github/Danielle504/CAP4630/blob/master/HW_4.ipynb\" target=\"_parent\"><img src=\"https://colab.research.google.com/assets/colab-badge.svg\" alt=\"Open In Colab\"/></a>"
      ]
    },
    {
      "cell_type": "markdown",
      "metadata": {
        "id": "4vjIKK2iqwGw",
        "colab_type": "text"
      },
      "source": [
        "Homework 4"
      ]
    },
    {
      "cell_type": "markdown",
      "metadata": {
        "id": "isEI5CW2qzIj",
        "colab_type": "text"
      },
      "source": [
        "Number 1\n",
        "\n",
        "Using only numpy, implement the function conv2d. It takes as input input_mat and kernel_mat and outputs output_mat. All variables are square matrices. It should compute the convolution of input_mat with the kernel kernel_mat using valid padding.\n",
        "\n",
        "Note that the size s of the kernel matrix can also be an even number."
      ]
    },
    {
      "cell_type": "code",
      "metadata": {
        "id": "YqrBp709m3A1",
        "colab_type": "code",
        "colab": {}
      },
      "source": [
        "import numpy as np\n",
        "from scipy import signal"
      ],
      "execution_count": 0,
      "outputs": []
    },
    {
      "cell_type": "code",
      "metadata": {
        "id": "y0SLXm-srKnG",
        "colab_type": "code",
        "colab": {}
      },
      "source": [
        "def conv2d(input_mat, kernel_mat):\n",
        "\n",
        "  if(np.shape(input_mat) < np.shape(kernel_mat)):\n",
        "    print(\"ERROR: Kernel > Input\")\n",
        "    return []\n",
        "\n",
        "  kernel_mat = np.flip(kernel_mat)\n",
        "\n",
        "  w = np.shape(input_mat)[0] - np.shape(kernel_mat)[0] + 1\n",
        "  l = np.shape(input_mat)[1] - np.shape(kernel_mat)[1] + 1\n",
        "\n",
        "  output_mat = np.zeros((w, l))\n",
        "\n",
        "  kernel_width = np.shape(kernel_mat)[0]\n",
        "  kernel_length = np.shape(kernel_mat)[1]\n",
        "\n",
        "  for i in range(w):\n",
        "    for j in range(l):\n",
        "      for k in range(kernel_width):\n",
        "        for m in range(kernel_length):\n",
        "          output_mat[i][j] = output_mat[i][j] + (input_mat[k+i][m+j] * kernel_mat[k][m])\n",
        "\n",
        "  return output_mat"
      ],
      "execution_count": 0,
      "outputs": []
    },
    {
      "cell_type": "code",
      "metadata": {
        "id": "GblFCzjC2MT0",
        "colab_type": "code",
        "colab": {
          "base_uri": "https://localhost:8080/",
          "height": 408
        },
        "outputId": "87f3f7fa-3cba-4ce5-c57f-c0673083cb23"
      },
      "source": [
        "input_mat = []\n",
        "kernel_mat = []\n",
        "expected_mat = []\n",
        "\n",
        "# Test1\n",
        "input_mat.append(np.array([[1, 2, 1, 2],\n",
        "                      [2, 1, 2, 1],\n",
        "                      [1, 2, 1, 2],\n",
        "                      [2, 1, 2, 1]]))\n",
        "\n",
        "kernel_mat.append(np.array([[1, 0],\n",
        "                       [0, 1]]))\n",
        "\n",
        "expected_mat.append(np.array([[2, 4, 2],\n",
        "                                [4, 2, 4],\n",
        "                                [2, 4, 2]]))\n",
        "\n",
        "# Test2\n",
        "input_mat.append(np.array([[1, 0, 0, 0],\n",
        "                      [0, 1, 0, 0],\n",
        "                      [0, 0, 1, 0],\n",
        "                      [0, 0, 0, 1]]))\n",
        "\n",
        "kernel_mat.append(np.array([[1, 0],\n",
        "                            [0, 1]]))\n",
        "\n",
        "expected_mat.append(np.array([[2, 0, 0], [0, 2, 0], [0, 0, 2]]))\n",
        "\n",
        "# Test3\n",
        "input_mat.append(np.array([[1, 0, 0, 0],\n",
        "                      [0, 1, 0, 0],\n",
        "                      [0, 0, 1, 0],\n",
        "                      [0, 0, 0, 1]]))\n",
        "kernel_mat.append(np.array([[1, -1],\n",
        "                       [-1, 0]]))\n",
        "\n",
        "expected_mat.append(np.array([[ 1, -1,  0], [-1,  1, -1],[ 0, -1,  1]]))\n",
        "\n",
        "# Test4\n",
        "input_mat.append(np.array([[1, 0, 0, 0],\n",
        "                      [0, 1, 0, 0],\n",
        "                      [0, 0, 1, 0],\n",
        "                      [0, 0, 0, 1]]))\n",
        "kernel_mat.append(np.array([[1, 0, 0, 0],\n",
        "                      [0, 1, 0, 0],\n",
        "                      [0, 0, 1, 0],\n",
        "                      [0, 0, 0, 1]]))\n",
        "\n",
        "expected_mat.append(np.array([[4]]))\n",
        "\n",
        "\n",
        "# Test5\n",
        "input_mat.append(np.array([[1, -1],\n",
        "                       [-1, 0]]))\n",
        "kernel_mat.append(np.array([[1, 0, 0, 0],\n",
        "                      [0, 1, 0, 0],\n",
        "                      [0, 0, 1, 0],\n",
        "                      [0, 0, 0, 1]]))\n",
        "\n",
        "expected_mat.append([])\n",
        "\n",
        "\n",
        "for i in range(len(input_mat)):\n",
        "  # uncomment line for student code testing\n",
        "  output_mat = conv2d(input_mat[i], kernel_mat[i])\n",
        "\n",
        "  # # uncomment lines below (and comment line above) for generating test cases.\n",
        "  # if input_mat[i].shape[0] < kernel_mat[i].shape[0]:\n",
        "  #   output_mat = []\n",
        "  # else:\n",
        "  #   output_mat = signal.convolve2d(input_mat[i], kernel_mat[i], mode='valid')\n",
        "\n",
        "  print(output_mat)\n",
        "\n",
        "  if np.array_equal(output_mat, expected_mat[i]):\n",
        "    print(\"YASSS YOU GO\\n\")\n",
        "  else:\n",
        "    print(\"BOOO GO BACK\\n\")"
      ],
      "execution_count": 7,
      "outputs": [
        {
          "output_type": "stream",
          "text": [
            "[[10. 22. 34. 46.]\n",
            " [60. 72. 84. 96.]\n",
            " [10. 22. 34. 46.]\n",
            " [60. 72. 84. 96.]]\n",
            "BOOO GO BACK\n",
            "\n",
            "[[2. 0. 0.]\n",
            " [0. 2. 0.]\n",
            " [0. 0. 2.]]\n",
            "YASSS YOU GO\n",
            "\n",
            "[[ 1. -1.  0.]\n",
            " [-1.  1. -1.]\n",
            " [ 0. -1.  1.]]\n",
            "YASSS YOU GO\n",
            "\n",
            "[[4.]]\n",
            "YASSS YOU GO\n",
            "\n",
            "ERROR: Kernel > Input\n",
            "[]\n",
            "YASSS YOU GO\n",
            "\n"
          ],
          "name": "stdout"
        }
      ]
    }
  ]
}