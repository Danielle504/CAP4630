{
  "nbformat": 4,
  "nbformat_minor": 0,
  "metadata": {
    "colab": {
      "name": "HW_4.ipynb",
      "provenance": [],
      "collapsed_sections": [],
      "authorship_tag": "ABX9TyNlavqoPhp3jk94KsmfqL9G",
      "include_colab_link": true
    },
    "kernelspec": {
      "name": "python3",
      "display_name": "Python 3"
    }
  },
  "cells": [
    {
      "cell_type": "markdown",
      "metadata": {
        "id": "view-in-github",
        "colab_type": "text"
      },
      "source": [
        "<a href=\"https://colab.research.google.com/github/Danielle504/CAP4630/blob/master/HW_4.ipynb\" target=\"_parent\"><img src=\"https://colab.research.google.com/assets/colab-badge.svg\" alt=\"Open In Colab\"/></a>"
      ]
    },
    {
      "cell_type": "markdown",
      "metadata": {
        "id": "4vjIKK2iqwGw",
        "colab_type": "text"
      },
      "source": [
        "Homework 4"
      ]
    },
    {
      "cell_type": "markdown",
      "metadata": {
        "id": "isEI5CW2qzIj",
        "colab_type": "text"
      },
      "source": [
        "Number 1\n",
        "\n",
        "Using only numpy, implement the function conv2d. It takes as input input_mat and kernel_mat and outputs output_mat. All variables are square matrices. It should compute the convolution of input_mat with the kernel kernel_mat using valid padding.\n",
        "\n",
        "Note that the size s of the kernel matrix can also be an even number."
      ]
    },
    {
      "cell_type": "code",
      "metadata": {
        "id": "YqrBp709m3A1",
        "colab_type": "code",
        "colab": {}
      },
      "source": [
        "import numpy as np\n",
        "from scipy import signal"
      ],
      "execution_count": 0,
      "outputs": []
    },
    {
      "cell_type": "code",
      "metadata": {
        "id": "y0SLXm-srKnG",
        "colab_type": "code",
        "colab": {}
      },
      "source": [
        "def conv2d(input_mat, kernel_mat):\n",
        "\n",
        "  if(np.shape(input_mat) < np.shape(kernel_mat)):\n",
        "    print(\"ERROR: Kernel > Input\")\n",
        "    return []\n",
        "\n",
        "  kernel_mat = np.flip(kernel_mat)\n",
        "\n",
        "  w = np.shape(input_mat)[0] - np.shape(kernel_mat)[0] + 1\n",
        "  l = np.shape(input_mat)[1] - np.shape(kernel_mat)[1] + 1\n",
        "\n",
        "  output_mat = np.zeros((w, l))\n",
        "\n",
        "  kernel_width = np.shape(kernel_mat)[0]\n",
        "  kernel_length = np.shape(kernel_mat)[1]\n",
        "\n",
        "  for i in range(w):\n",
        "    for j in range(l):\n",
        "      for k in range(kernel_width):\n",
        "        for m in range(kernel_length):\n",
        "          output_mat[i][j] = output_mat[i][j] + (input_mat[k+i][m+j] * kernel_mat[k][m])\n",
        "\n",
        "  return output_mat"
      ],
      "execution_count": 0,
      "outputs": []
    },
    {
      "cell_type": "code",
      "metadata": {
        "id": "GblFCzjC2MT0",
        "colab_type": "code",
        "outputId": "46de1064-6d26-4625-9523-af15166f0627",
        "colab": {
          "base_uri": "https://localhost:8080/",
          "height": 391
        }
      },
      "source": [
        "input_mat = []\n",
        "kernel_mat = []\n",
        "expected_mat = []\n",
        "\n",
        "# Test1\n",
        "input_mat.append(np.array([[1, 2, 1, 2],\n",
        "                      [2, 1, 2, 1],\n",
        "                      [1, 2, 1, 2],\n",
        "                      [2, 1, 2, 1]]))\n",
        "\n",
        "kernel_mat.append(np.array([[1, 0],\n",
        "                       [0, 1]]))\n",
        "\n",
        "expected_mat.append(np.array([[2, 4, 2],\n",
        "                                [4, 2, 4],\n",
        "                                [2, 4, 2]]))\n",
        "\n",
        "# Test2\n",
        "input_mat.append(np.array([[1, 0, 0, 0],\n",
        "                      [0, 1, 0, 0],\n",
        "                      [0, 0, 1, 0],\n",
        "                      [0, 0, 0, 1]]))\n",
        "\n",
        "kernel_mat.append(np.array([[1, 0],\n",
        "                            [0, 1]]))\n",
        "\n",
        "expected_mat.append(np.array([[2, 0, 0], \n",
        "                              [0, 2, 0], \n",
        "                              [0, 0, 2]]))\n",
        "\n",
        "# Test3\n",
        "input_mat.append(np.array([[1, 0, 0, 0],\n",
        "                      [0, 1, 0, 0],\n",
        "                      [0, 0, 1, 0],\n",
        "                      [0, 0, 0, 1]]))\n",
        "kernel_mat.append(np.array([[1, -1],\n",
        "                       [-1, 0]]))\n",
        "\n",
        "expected_mat.append(np.array([[ 1, -1,  0], \n",
        "                              [-1,  1, -1],\n",
        "                              [ 0, -1,  1]]))\n",
        "\n",
        "# Test4\n",
        "input_mat.append(np.array([[1, 0, 0, 0],\n",
        "                      [0, 1, 0, 0],\n",
        "                      [0, 0, 1, 0],\n",
        "                      [0, 0, 0, 1]]))\n",
        "kernel_mat.append(np.array([[1, 0, 0, 0],\n",
        "                      [0, 1, 0, 0],\n",
        "                      [0, 0, 1, 0],\n",
        "                      [0, 0, 0, 1]]))\n",
        "\n",
        "expected_mat.append(np.array([[4]]))\n",
        "\n",
        "\n",
        "# Test5\n",
        "input_mat.append(np.array([[1, -1],\n",
        "                       [-1, 0]]))\n",
        "kernel_mat.append(np.array([[1, 0, 0, 0],\n",
        "                      [0, 1, 0, 0],\n",
        "                      [0, 0, 1, 0],\n",
        "                      [0, 0, 0, 1]]))\n",
        "\n",
        "expected_mat.append([])\n",
        "\n",
        "\n",
        "for i in range(len(input_mat)):\n",
        "  # uncomment line for student code testing\n",
        "  output_mat = conv2d(input_mat[i], kernel_mat[i])\n",
        "\n",
        "  # # uncomment lines below (and comment line above) for generating test cases.\n",
        "  # if input_mat[i].shape[0] < kernel_mat[i].shape[0]:\n",
        "  #   output_mat = []\n",
        "  # else:\n",
        "  #   output_mat = signal.convolve2d(input_mat[i], kernel_mat[i], mode='valid')\n",
        "\n",
        "  print(output_mat)\n",
        "\n",
        "  if np.array_equal(output_mat, expected_mat[i]):\n",
        "    print(\"YASSS YOU GO\\n\")\n",
        "  else:\n",
        "    print(\"BOOO GO BACK\\n\")"
      ],
      "execution_count": 0,
      "outputs": [
        {
          "output_type": "stream",
          "text": [
            "[[2. 4. 2.]\n",
            " [4. 2. 4.]\n",
            " [2. 4. 2.]]\n",
            "YASSS YOU GO\n",
            "\n",
            "[[2. 0. 0.]\n",
            " [0. 2. 0.]\n",
            " [0. 0. 2.]]\n",
            "YASSS YOU GO\n",
            "\n",
            "[[ 1. -1.  0.]\n",
            " [-1.  1. -1.]\n",
            " [ 0. -1.  1.]]\n",
            "YASSS YOU GO\n",
            "\n",
            "[[4.]]\n",
            "YASSS YOU GO\n",
            "\n",
            "ERROR: Kernel > Input\n",
            "[]\n",
            "YASSS YOU GO\n",
            "\n"
          ],
          "name": "stdout"
        }
      ]
    },
    {
      "cell_type": "markdown",
      "metadata": {
        "id": "UyMn8SgICacK",
        "colab_type": "text"
      },
      "source": [
        "Problem 2"
      ]
    },
    {
      "cell_type": "markdown",
      "metadata": {
        "id": "pBfk0tJGCjUE",
        "colab_type": "text"
      },
      "source": [
        "Using only numpy, implement the function maxpooling2d. It takes as input input_mat and s and outputs output_mat. The variables input_mat and output_mat are square matrices and s is an integer. It should compute the maxpooling operation on input_mat using window of shape s times s."
      ]
    },
    {
      "cell_type": "code",
      "metadata": {
        "id": "oMBkJWa7CkM7",
        "colab_type": "code",
        "colab": {}
      },
      "source": [
        "import numpy as np\n",
        "import skimage.measure"
      ],
      "execution_count": 0,
      "outputs": []
    },
    {
      "cell_type": "code",
      "metadata": {
        "id": "ErAOiHyeCtHk",
        "colab_type": "code",
        "colab": {}
      },
      "source": [
        "def maxpooling2d(input_mat, s):\n",
        "  \n",
        "  if(np.shape(input_mat) < (s,s)):\n",
        "    print(\"ERROR: Filter > Input\")\n",
        "    return []\n",
        "\n",
        "  w = np.shape(input_mat)[0]\n",
        "  l = np.shape(input_mat)[1]\n",
        "\n",
        "  a = int(w/s)\n",
        "  output_mat = np.zeros((a,a))\n",
        "\n",
        "  for i in range(0,w,s):\n",
        "    for j in range(0,l,s):\n",
        "        \n",
        "      for k in range(s):\n",
        "        for m in range(s):\n",
        "          \n",
        "          try :\n",
        "            output_mat[int(i/s)][int(j/s)] = max(output_mat[int(i/s)][int(j/s)], (input_mat[k+int(i)][m+int(j)]))\n",
        "          except:\n",
        "            pass\n",
        "          \n",
        "  return output_mat"
      ],
      "execution_count": 0,
      "outputs": []
    },
    {
      "cell_type": "code",
      "metadata": {
        "id": "ucI8GIdqEHgi",
        "colab_type": "code",
        "outputId": "a7a5b173-0e34-479a-dc08-c98c5d72023d",
        "colab": {
          "base_uri": "https://localhost:8080/",
          "height": 238
        }
      },
      "source": [
        "input_mat = []\n",
        "expected_mat = []\n",
        "s = []\n",
        "input_mat.append(np.array([[1, 2, 1, 2],\n",
        "                      [2, 4, 2, 1],\n",
        "                      [1, 2, 4, 2],\n",
        "                      [2, 1, 2, 1]]))\n",
        "s.append(2)\n",
        "\n",
        "expected_mat.append(np.array([[4, 2],\n",
        "                                [2, 4]]))\n",
        "\n",
        "input_mat.append(np.array([[1, 2, 1, 2, 4, 5],\n",
        "                      [2, 4, 2, 1, 0, 3],\n",
        "                      [1, 2, 4, 2, 4, 5],\n",
        "                      [2, 1, 2, 1, 2, 1],\n",
        "                      [1, 1, 2, 3, 1, 2],\n",
        "                      [1, 1, 2, 3, 1, 2]]))\n",
        "s.append(2)\n",
        "\n",
        "expected_mat.append([[4, 2, 5],\n",
        " [2, 4, 5],\n",
        " [1, 3, 2]])\n",
        "\n",
        "\n",
        "#Extra row and column test case\n",
        "input_mat.append(np.array([[1, 2, 1, 2, 4],\n",
        "                      [2, 4, 2, 1 , 4],\n",
        "                      [1, 2, 4, 2, 4],\n",
        "                      [2, 1, 2, 1, 4],\n",
        "                      [2, 1, 2, 1, 4]]))\n",
        "s.append(2)\n",
        "\n",
        "expected_mat.append(np.array([[4, 2],\n",
        "                                [2, 4]]))\n",
        "\n",
        "\n",
        "\n",
        "\n",
        "for i in range(len(input_mat)):\n",
        "  # uncomment top line and comment second line to test code\n",
        "  output_mat = maxpooling2d(input_mat[i], s[i])\n",
        "  # output_mat = skimage.measure.block_reduce(input_mat[i], (s[i],s[i]), np.max)\n",
        "\n",
        "  print(output_mat)\n",
        "\n",
        "  if np.array_equal(output_mat, expected_mat[i]):\n",
        "    print(\"YASSS YOU GO\\n\")\n",
        "  else:\n",
        "    print(\"BOOO GO BACK\\n\")"
      ],
      "execution_count": 0,
      "outputs": [
        {
          "output_type": "stream",
          "text": [
            "[[4. 2.]\n",
            " [2. 4.]]\n",
            "YASSS YOU GO\n",
            "\n",
            "[[4. 2. 5.]\n",
            " [2. 4. 5.]\n",
            " [1. 3. 2.]]\n",
            "YASSS YOU GO\n",
            "\n",
            "[[4. 2.]\n",
            " [2. 4.]]\n",
            "YASSS YOU GO\n",
            "\n"
          ],
          "name": "stdout"
        }
      ]
    },
    {
      "cell_type": "markdown",
      "metadata": {
        "id": "ZhoWxgtANFuZ",
        "colab_type": "text"
      },
      "source": [
        "HW 3:\n",
        " \n",
        "https://colab.research.google.com/drive/11YtPfRzbd66ZW96YCeNTmm4OI0kvsOmv\n",
        "\n",
        "https://colab.research.google.com/drive/1lwGtlD7qn2Sq2ceveUINO_W7zO6yBQeC"
      ]
    }
  ]
}