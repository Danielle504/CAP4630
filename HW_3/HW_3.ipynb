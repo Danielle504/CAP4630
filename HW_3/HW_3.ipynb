{
  "nbformat": 4,
  "nbformat_minor": 0,
  "metadata": {
    "colab": {
      "name": "HW_3.ipynb",
      "provenance": [],
      "collapsed_sections": [],
      "authorship_tag": "ABX9TyNr52k5bTb6kwdK/TKgmeX1",
      "include_colab_link": true
    },
    "kernelspec": {
      "name": "python3",
      "display_name": "Python 3"
    }
  },
  "cells": [
    {
      "cell_type": "markdown",
      "metadata": {
        "id": "view-in-github",
        "colab_type": "text"
      },
      "source": [
        "<a href=\"https://colab.research.google.com/github/Danielle504/CAP4630/blob/master/HW_3.ipynb\" target=\"_parent\"><img src=\"https://colab.research.google.com/assets/colab-badge.svg\" alt=\"Open In Colab\"/></a>"
      ]
    },
    {
      "cell_type": "markdown",
      "metadata": {
        "id": "XL4gg2Ifpv0R",
        "colab_type": "text"
      },
      "source": [
        "Danielle Garsten\n",
        "CAP4630, Spring 2020"
      ]
    },
    {
      "cell_type": "markdown",
      "metadata": {
        "id": "tPrD0gy3h3Ju",
        "colab_type": "text"
      },
      "source": [
        "Problem 1"
      ]
    },
    {
      "cell_type": "code",
      "metadata": {
        "id": "w2yNoI-2mgYV",
        "colab_type": "code",
        "colab": {}
      },
      "source": [
        "import numpy as np\n",
        "import matplotlib.pyplot as plt\n",
        "import random as random"
      ],
      "execution_count": 0,
      "outputs": []
    },
    {
      "cell_type": "code",
      "metadata": {
        "id": "B4erluKsmhAK",
        "colab_type": "code",
        "colab": {
          "base_uri": "https://localhost:8080/",
          "height": 622
        },
        "outputId": "46cc7b70-e61b-46ae-a699-205cae29b290"
      },
      "source": [
        "def get_random_data(w, b, mu, sigma, m):\n",
        "  data = []\n",
        "  labels = []\n",
        "  for i in range(m):\n",
        "    c = np.random.randint(low = 0, high = 2, size = 1)\n",
        "    labels.append(random.randint(0,1))\n",
        "    x_1 = random.random() \n",
        "    n = np.random.normal(mu, sigma)\n",
        "    x_2 = w * x_1 \n",
        "    x_2 += b\n",
        "    x_2 += ((-1)**labels[i]) * n\n",
        "    data.append([x_1, x_2])\n",
        "  data = np.array(data)\n",
        "  labels = np.array(labels)\n",
        "  print(d.shape)\n",
        "  return data, labels\n",
        "\n",
        "d, l =  get_random_data(25, 15, 25, 8, 1000)\n",
        "print(d)\n",
        "print(l)"
      ],
      "execution_count": 80,
      "outputs": [
        {
          "output_type": "stream",
          "text": [
            "(1000, 2)\n",
            "[[ 3.71424563e-02 -1.39324141e-02]\n",
            " [ 9.25217025e-01  6.54095072e+01]\n",
            " [ 4.01879155e-01  5.69820306e+00]\n",
            " ...\n",
            " [ 2.20442541e-01 -7.80013235e+00]\n",
            " [ 1.51712078e-01 -1.21278182e+00]\n",
            " [ 7.92731375e-01  5.06378163e+01]]\n",
            "[1 0 1 1 1 1 0 0 0 0 1 1 0 0 1 1 0 1 1 0 0 0 1 1 0 0 1 0 0 1 1 0 0 0 1 0 1\n",
            " 0 1 0 1 0 1 0 1 1 1 1 1 0 1 0 0 1 1 0 0 0 0 1 1 1 1 0 0 0 0 1 1 0 0 0 1 0\n",
            " 0 0 1 0 0 0 1 0 0 0 1 1 1 1 1 1 0 0 0 1 1 1 0 1 1 0 0 1 0 0 0 0 0 0 0 1 1\n",
            " 1 1 0 1 1 0 0 0 1 0 1 0 1 0 0 0 0 0 1 1 1 1 1 1 0 1 1 1 1 0 0 1 1 1 0 1 1\n",
            " 1 1 0 1 1 1 1 0 1 1 1 0 0 1 1 1 0 0 0 1 0 0 1 0 0 1 1 1 1 0 1 1 1 1 1 1 0\n",
            " 1 1 1 0 0 0 0 0 1 0 1 0 0 1 0 1 0 1 0 0 1 1 0 0 0 0 1 1 0 1 0 1 0 0 0 0 1\n",
            " 1 0 1 1 1 0 0 1 1 1 1 1 1 0 1 0 0 1 1 0 0 0 0 1 1 1 1 0 0 1 1 1 1 1 0 0 0\n",
            " 0 0 0 0 1 1 1 0 1 0 0 1 0 1 0 0 1 1 1 1 1 0 1 0 0 1 1 0 1 0 0 0 1 1 1 1 0\n",
            " 0 0 1 1 0 0 0 1 1 0 1 0 0 0 1 0 0 1 0 1 1 1 1 1 0 1 1 1 1 0 1 1 1 1 0 1 0\n",
            " 0 1 1 1 0 1 0 0 0 0 1 1 1 1 0 1 0 1 0 1 1 1 0 1 0 1 1 0 1 1 1 1 1 1 0 0 0\n",
            " 1 0 1 0 0 1 0 0 0 1 0 1 1 1 0 1 0 0 1 1 1 1 0 0 1 1 1 1 1 1 1 1 0 1 0 0 0\n",
            " 1 0 1 0 0 1 0 0 0 1 0 0 1 0 0 0 1 0 0 0 0 1 1 0 0 1 0 0 1 0 1 1 1 0 0 0 0\n",
            " 1 1 1 1 0 1 1 0 1 0 0 0 1 0 1 1 1 1 0 0 1 0 0 0 1 1 1 0 0 1 0 0 0 0 0 1 0\n",
            " 0 1 1 1 0 0 1 1 0 1 0 1 1 0 1 0 0 1 1 1 0 1 1 0 1 0 0 0 1 1 0 1 1 1 1 0 1\n",
            " 0 1 0 1 1 0 1 0 1 1 1 0 1 1 0 1 0 1 0 1 0 1 0 0 0 1 1 0 0 0 0 1 1 0 0 1 1\n",
            " 0 1 0 0 0 0 0 0 1 0 0 0 0 1 1 0 0 0 1 1 1 0 0 0 0 0 0 0 0 0 0 0 0 1 0 1 0\n",
            " 0 1 1 1 1 0 0 0 0 1 0 1 1 0 0 0 0 1 0 1 1 1 0 0 1 1 0 0 0 0 0 1 0 0 1 1 1\n",
            " 0 0 1 0 0 1 0 0 1 1 1 0 0 0 0 0 0 0 0 0 0 0 1 1 0 1 1 0 0 0 1 1 1 0 1 1 0\n",
            " 0 1 0 1 0 0 0 1 0 0 0 0 0 1 0 0 0 0 1 0 1 1 1 1 1 1 1 0 0 1 0 0 1 1 0 1 1\n",
            " 0 0 1 0 0 1 0 0 1 1 1 1 1 1 0 0 0 1 1 0 0 0 0 1 1 1 1 0 0 1 0 0 1 0 0 0 0\n",
            " 1 0 0 0 1 0 1 0 1 1 0 1 0 1 1 0 1 0 1 1 0 1 1 1 1 1 1 1 1 1 1 1 0 0 0 0 0\n",
            " 1 0 0 1 1 0 0 1 1 1 1 1 1 1 0 0 1 0 1 1 1 0 0 0 0 1 0 1 1 1 0 1 1 1 1 1 1\n",
            " 1 1 0 0 1 0 1 1 1 0 1 1 0 1 1 1 1 0 0 1 0 1 0 0 1 1 1 0 0 1 1 0 0 0 1 0 1\n",
            " 0 0 0 1 0 1 1 0 0 0 1 1 1 1 0 0 1 1 1 0 1 1 0 1 1 0 0 1 1 1 1 0 0 0 0 0 1\n",
            " 0 1 1 1 0 0 0 0 0 1 1 1 0 0 1 1 0 0 0 0 1 0 0 1 0 1 0 0 1 0 0 0 0 0 0 1 0\n",
            " 1 0 0 1 1 1 1 0 1 1 0 0 1 1 0 0 0 0 1 1 1 0 0 1 0 1 0 1 0 0 0 1 1 1 0 0 1\n",
            " 0 1 1 1 0 0 1 1 0 0 1 1 0 0 0 0 0 1 0 1 1 1 0 0 0 1 1 1 1 1 1 0 1 0 1 1 1\n",
            " 0]\n"
          ],
          "name": "stdout"
        }
      ]
    },
    {
      "cell_type": "code",
      "metadata": {
        "id": "GeDZCwO1NqSe",
        "colab_type": "code",
        "colab": {
          "base_uri": "https://localhost:8080/",
          "height": 265
        },
        "outputId": "04fc716a-92ff-4b05-80b7-670af4c47572"
      },
      "source": [
        "def display_random_data(data, labels):\n",
        "    x_1 = []\n",
        "    y_1 = []\n",
        "    x_2 = []\n",
        "    y_2 = []\n",
        "    for i in range(len(labels)):\n",
        "        if labels[i] == 0:\n",
        "            x_2.append(data[i][0])\n",
        "            y_2.append(data[i][1])\n",
        "        else:\n",
        "            x_1.append(data[i][0])\n",
        "            y_1.append(data[i][1])\n",
        "    plt.scatter(x_1, y_1, c='red')\n",
        "    plt.scatter(x_2, y_2, c='blue')\n",
        "\n",
        "display_random_data(d, l)"
      ],
      "execution_count": 81,
      "outputs": [
        {
          "output_type": "display_data",
          "data": {
            "image/png": "[encoded data removed]",
            "text/plain": [
              "<Figure size 432x288 with 1 Axes>"
            ]
          },
          "metadata": {
            "tags": []
          }
        }
      ]
    },
    {
      "cell_type": "code",
      "metadata": {
        "id": "0NvxNpLMk-PK",
        "colab_type": "code",
        "colab": {}
      },
      "source": [
        "train_size = int(l.shape[0] * .8)\n",
        "test_size = int(l.shape[0] * .2)"
      ],
      "execution_count": 0,
      "outputs": []
    },
    {
      "cell_type": "code",
      "metadata": {
        "id": "vaJOJjKTlS4c",
        "colab_type": "code",
        "colab": {}
      },
      "source": [
        "train_data = d[:train_size]\n",
        "test_data = d[train_size:]\n",
        "train_labels = l[:train_size]\n",
        "test_labels = l[train_size:]"
      ],
      "execution_count": 0,
      "outputs": []
    },
    {
      "cell_type": "markdown",
      "metadata": {
        "id": "-twnqVq1jsSA",
        "colab_type": "text"
      },
      "source": [
        "Problem 2"
      ]
    },
    {
      "cell_type": "markdown",
      "metadata": {
        "id": "7bt_e2iDjpdB",
        "colab_type": "text"
      },
      "source": [
        "Problem 3"
      ]
    }
  ]
}