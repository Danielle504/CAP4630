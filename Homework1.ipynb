{
  "nbformat": 4,
  "nbformat_minor": 0,
  "metadata": {
    "colab": {
      "name": "Homework1.ipynb",
      "provenance": [],
      "collapsed_sections": [],
      "authorship_tag": "ABX9TyOc2jBlfz3QqkxpT5o8xLz8",
      "include_colab_link": true
    },
    "kernelspec": {
      "name": "python3",
      "display_name": "Python 3"
    }
  },
  "cells": [
    {
      "cell_type": "markdown",
      "metadata": {
        "id": "view-in-github",
        "colab_type": "text"
      },
      "source": [
        "<a href=\"https://colab.research.google.com/github/Danielle504/CAP4630/blob/master/Homework1.ipynb\" target=\"_parent\"><img src=\"https://colab.research.google.com/assets/colab-badge.svg\" alt=\"Open In Colab\"/></a>"
      ]
    },
    {
      "cell_type": "code",
      "metadata": {
        "id": "Wdu2MTcpCIeJ",
        "colab_type": "code",
        "colab": {}
      },
      "source": [
        "import numpy as np\n",
        "\n",
        "# a = np.array([1, 2])\n",
        "# b = np.array([2, 2])\n",
        "# matrix = [a, b]\n",
        "\n",
        "def multiply_matrices(matrix):\n",
        "  try:\n",
        "    sol = np.dot(matrix[0], matrix[1])\n",
        "  except:\n",
        "    print(\"Error, cannot print matrices\")\n",
        "    return\n",
        "  for i in range(2, len(matrix)):\n",
        "    try:\n",
        "      sol = np.dot(sol, matrix[i])\n",
        "    except:\n",
        "      print(\"Error, cannot print matrices\")\n",
        "  print(\"Solution: \\n\", sol)\n",
        "\n",
        "multiply_matrices(matrix)\n",
        "matrix.clear()"
      ],
      "execution_count": 0,
      "outputs": []
    }
  ]
}